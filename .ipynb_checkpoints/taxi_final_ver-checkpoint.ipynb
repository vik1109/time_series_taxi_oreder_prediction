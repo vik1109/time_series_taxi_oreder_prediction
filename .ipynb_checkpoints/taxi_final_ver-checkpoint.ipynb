{
 "cells": [
  {
   "cell_type": "markdown",
   "metadata": {
    "toc": true
   },
   "source": [
    "<h1>Содержание<span class=\"tocSkip\"></span></h1>\n",
    "<div class=\"toc\"><ul class=\"toc-item\"><li><span><a href=\"#Подготовка\" data-toc-modified-id=\"Подготовка-1\"><span class=\"toc-item-num\">1&nbsp;&nbsp;</span>Подготовка</a></span><ul class=\"toc-item\"><li><span><a href=\"#Вывод\" data-toc-modified-id=\"Вывод-1.1\"><span class=\"toc-item-num\">1.1&nbsp;&nbsp;</span>Вывод</a></span></li></ul></li><li><span><a href=\"#Анализ\" data-toc-modified-id=\"Анализ-2\"><span class=\"toc-item-num\">2&nbsp;&nbsp;</span>Анализ</a></span><ul class=\"toc-item\"><li><span><a href=\"#Вывод\" data-toc-modified-id=\"Вывод-2.1\"><span class=\"toc-item-num\">2.1&nbsp;&nbsp;</span>Вывод</a></span></li></ul></li><li><span><a href=\"#Обучение\" data-toc-modified-id=\"Обучение-3\"><span class=\"toc-item-num\">3&nbsp;&nbsp;</span>Обучение</a></span><ul class=\"toc-item\"><li><span><a href=\"#Вывод\" data-toc-modified-id=\"Вывод-3.1\"><span class=\"toc-item-num\">3.1&nbsp;&nbsp;</span>Вывод</a></span></li></ul></li><li><span><a href=\"#Тестирование\" data-toc-modified-id=\"Тестирование-4\"><span class=\"toc-item-num\">4&nbsp;&nbsp;</span>Тестирование</a></span><ul class=\"toc-item\"><li><span><a href=\"#Вывод\" data-toc-modified-id=\"Вывод-4.1\"><span class=\"toc-item-num\">4.1&nbsp;&nbsp;</span>Вывод</a></span></li></ul></li><li><span><a href=\"#Чек-лист-проверки\" data-toc-modified-id=\"Чек-лист-проверки-5\"><span class=\"toc-item-num\">5&nbsp;&nbsp;</span>Чек-лист проверки</a></span></li></ul></div>"
   ]
  },
  {
   "cell_type": "markdown",
   "metadata": {},
   "source": [
    "#  Прогнозирование заказов такси"
   ]
  },
  {
   "cell_type": "markdown",
   "metadata": {},
   "source": [
    "Компания «Чётенькое такси» собрала исторические данные о заказах такси в аэропортах. Чтобы привлекать больше водителей в период пиковой нагрузки, нужно спрогнозировать количество заказов такси на следующий час. Постройте модель для такого предсказания.\n",
    "\n",
    "Значение метрики *RMSE* на тестовой выборке должно быть не больше 48.\n",
    "\n",
    "Вам нужно:\n",
    "\n",
    "1. Загрузить данные и выполнить их ресемплирование по одному часу.\n",
    "2. Проанализировать данные.\n",
    "3. Обучить разные модели с различными гиперпараметрами. Сделать тестовую выборку размером 10% от исходных данных.\n",
    "4. Проверить данные на тестовой выборке и сделать выводы.\n",
    "\n",
    "\n",
    "Данные лежат в файле `taxi.csv`. Количество заказов находится в столбце `num_orders` (от англ. *number of orders*, «число заказов»)."
   ]
  },
  {
   "cell_type": "markdown",
   "metadata": {},
   "source": [
    "## Подготовка"
   ]
  },
  {
   "cell_type": "code",
   "execution_count": 1,
   "metadata": {},
   "outputs": [
    {
     "name": "stdout",
     "output_type": "stream",
     "text": [
      "Requirement already satisfied: optuna in /opt/conda/lib/python3.9/site-packages (3.0.2)\n",
      "Requirement already satisfied: cmaes>=0.8.2 in /opt/conda/lib/python3.9/site-packages (from optuna) (0.8.2)\n",
      "Requirement already satisfied: scipy<1.9.0,>=1.7.0 in /opt/conda/lib/python3.9/site-packages (from optuna) (1.8.1)\n",
      "Requirement already satisfied: sqlalchemy>=1.3.0 in /opt/conda/lib/python3.9/site-packages (from optuna) (1.4.20)\n",
      "Requirement already satisfied: alembic>=1.5.0 in /opt/conda/lib/python3.9/site-packages (from optuna) (1.6.5)\n",
      "Requirement already satisfied: colorlog in /opt/conda/lib/python3.9/site-packages (from optuna) (6.7.0)\n",
      "Requirement already satisfied: packaging>=20.0 in /opt/conda/lib/python3.9/site-packages (from optuna) (21.3)\n",
      "Requirement already satisfied: PyYAML in /opt/conda/lib/python3.9/site-packages (from optuna) (6.0)\n",
      "Requirement already satisfied: cliff in /opt/conda/lib/python3.9/site-packages (from optuna) (4.0.0)\n",
      "Requirement already satisfied: tqdm in /opt/conda/lib/python3.9/site-packages (from optuna) (4.61.2)\n",
      "Requirement already satisfied: numpy in /opt/conda/lib/python3.9/site-packages (from optuna) (1.21.1)\n",
      "Requirement already satisfied: python-dateutil in /opt/conda/lib/python3.9/site-packages (from alembic>=1.5.0->optuna) (2.8.1)\n",
      "Requirement already satisfied: Mako in /opt/conda/lib/python3.9/site-packages (from alembic>=1.5.0->optuna) (1.1.4)\n",
      "Requirement already satisfied: python-editor>=0.3 in /opt/conda/lib/python3.9/site-packages (from alembic>=1.5.0->optuna) (1.0.4)\n",
      "Requirement already satisfied: pyparsing!=3.0.5,>=2.0.2 in /opt/conda/lib/python3.9/site-packages (from packaging>=20.0->optuna) (2.4.7)\n",
      "Requirement already satisfied: greenlet!=0.4.17 in /opt/conda/lib/python3.9/site-packages (from sqlalchemy>=1.3.0->optuna) (1.1.0)\n",
      "Requirement already satisfied: PrettyTable>=0.7.2 in /opt/conda/lib/python3.9/site-packages (from cliff->optuna) (3.4.1)\n",
      "Requirement already satisfied: cmd2>=1.0.0 in /opt/conda/lib/python3.9/site-packages (from cliff->optuna) (2.4.2)\n",
      "Requirement already satisfied: importlib-metadata>=4.4 in /opt/conda/lib/python3.9/site-packages (from cliff->optuna) (4.6.1)\n",
      "Requirement already satisfied: autopage>=0.4.0 in /opt/conda/lib/python3.9/site-packages (from cliff->optuna) (0.5.1)\n",
      "Requirement already satisfied: stevedore>=2.0.1 in /opt/conda/lib/python3.9/site-packages (from cliff->optuna) (4.0.0)\n",
      "Requirement already satisfied: wcwidth>=0.1.7 in /opt/conda/lib/python3.9/site-packages (from cmd2>=1.0.0->cliff->optuna) (0.2.5)\n",
      "Requirement already satisfied: pyperclip>=1.6 in /opt/conda/lib/python3.9/site-packages (from cmd2>=1.0.0->cliff->optuna) (1.8.2)\n",
      "Requirement already satisfied: attrs>=16.3.0 in /opt/conda/lib/python3.9/site-packages (from cmd2>=1.0.0->cliff->optuna) (21.2.0)\n",
      "Requirement already satisfied: zipp>=0.5 in /opt/conda/lib/python3.9/site-packages (from importlib-metadata>=4.4->cliff->optuna) (3.5.0)\n",
      "Requirement already satisfied: pbr!=2.1.0,>=2.0.0 in /opt/conda/lib/python3.9/site-packages (from stevedore>=2.0.1->cliff->optuna) (5.10.0)\n",
      "Requirement already satisfied: MarkupSafe>=0.9.2 in /opt/conda/lib/python3.9/site-packages (from Mako->alembic>=1.5.0->optuna) (2.1.1)\n",
      "Requirement already satisfied: six>=1.5 in /opt/conda/lib/python3.9/site-packages (from python-dateutil->alembic>=1.5.0->optuna) (1.16.0)\n"
     ]
    }
   ],
   "source": [
    "!pip install optuna"
   ]
  },
  {
   "cell_type": "code",
   "execution_count": 2,
   "metadata": {},
   "outputs": [
    {
     "name": "stdout",
     "output_type": "stream",
     "text": [
      "Requirement already satisfied: catboost in /opt/conda/lib/python3.9/site-packages (1.0.3)\n",
      "Requirement already satisfied: graphviz in /opt/conda/lib/python3.9/site-packages (from catboost) (0.20.1)\n",
      "Requirement already satisfied: matplotlib in /opt/conda/lib/python3.9/site-packages (from catboost) (3.3.4)\n",
      "Requirement already satisfied: six in /opt/conda/lib/python3.9/site-packages (from catboost) (1.16.0)\n",
      "Requirement already satisfied: scipy in /opt/conda/lib/python3.9/site-packages (from catboost) (1.8.1)\n",
      "Requirement already satisfied: plotly in /opt/conda/lib/python3.9/site-packages (from catboost) (5.4.0)\n",
      "Requirement already satisfied: pandas>=0.24.0 in /opt/conda/lib/python3.9/site-packages (from catboost) (1.2.4)\n",
      "Requirement already satisfied: numpy>=1.16.0 in /opt/conda/lib/python3.9/site-packages (from catboost) (1.21.1)\n",
      "Requirement already satisfied: python-dateutil>=2.7.3 in /opt/conda/lib/python3.9/site-packages (from pandas>=0.24.0->catboost) (2.8.1)\n",
      "Requirement already satisfied: pytz>=2017.3 in /opt/conda/lib/python3.9/site-packages (from pandas>=0.24.0->catboost) (2021.1)\n",
      "Requirement already satisfied: cycler>=0.10 in /opt/conda/lib/python3.9/site-packages (from matplotlib->catboost) (0.11.0)\n",
      "Requirement already satisfied: pyparsing!=2.0.4,!=2.1.2,!=2.1.6,>=2.0.3 in /opt/conda/lib/python3.9/site-packages (from matplotlib->catboost) (2.4.7)\n",
      "Requirement already satisfied: kiwisolver>=1.0.1 in /opt/conda/lib/python3.9/site-packages (from matplotlib->catboost) (1.4.4)\n",
      "Requirement already satisfied: pillow>=6.2.0 in /opt/conda/lib/python3.9/site-packages (from matplotlib->catboost) (8.4.0)\n",
      "Requirement already satisfied: tenacity>=6.2.0 in /opt/conda/lib/python3.9/site-packages (from plotly->catboost) (8.0.1)\n"
     ]
    }
   ],
   "source": [
    "!pip install catboost"
   ]
  },
  {
   "cell_type": "code",
   "execution_count": 3,
   "metadata": {},
   "outputs": [],
   "source": [
    "#import libraries\n",
    "import pandas as pd\n",
    "import matplotlib.pyplot as plt\n",
    "from statsmodels.tsa.seasonal import seasonal_decompose\n",
    "\n",
    "from sklearn.model_selection import train_test_split\n",
    "from catboost import CatBoostRegressor\n",
    "\n",
    "import optuna\n",
    "from sklearn.metrics import mean_squared_error"
   ]
  },
  {
   "cell_type": "code",
   "execution_count": 4,
   "metadata": {
    "scrolled": true
   },
   "outputs": [
    {
     "name": "stdout",
     "output_type": "stream",
     "text": [
      "<class 'pandas.core.frame.DataFrame'>\n",
      "DatetimeIndex: 26496 entries, 2018-03-01 00:00:00 to 2018-08-31 23:50:00\n",
      "Data columns (total 1 columns):\n",
      " #   Column      Non-Null Count  Dtype\n",
      "---  ------      --------------  -----\n",
      " 0   num_orders  26496 non-null  int64\n",
      "dtypes: int64(1)\n",
      "memory usage: 414.0 KB\n"
     ]
    }
   ],
   "source": [
    "#load dataframe\n",
    "df = pd.read_csv('/datasets/taxi.csv', index_col = 0, parse_dates = [0])\n",
    "df.info()"
   ]
  },
  {
   "cell_type": "markdown",
   "metadata": {},
   "source": [
    "В датафреме 26496 записей, пропусков нет. Отсортируем по индексу, что бы даты шли последовательно."
   ]
  },
  {
   "cell_type": "code",
   "execution_count": 5,
   "metadata": {},
   "outputs": [
    {
     "data": {
      "text/html": [
       "<div>\n",
       "<style scoped>\n",
       "    .dataframe tbody tr th:only-of-type {\n",
       "        vertical-align: middle;\n",
       "    }\n",
       "\n",
       "    .dataframe tbody tr th {\n",
       "        vertical-align: top;\n",
       "    }\n",
       "\n",
       "    .dataframe thead th {\n",
       "        text-align: right;\n",
       "    }\n",
       "</style>\n",
       "<table border=\"1\" class=\"dataframe\">\n",
       "  <thead>\n",
       "    <tr style=\"text-align: right;\">\n",
       "      <th></th>\n",
       "      <th>num_orders</th>\n",
       "    </tr>\n",
       "    <tr>\n",
       "      <th>datetime</th>\n",
       "      <th></th>\n",
       "    </tr>\n",
       "  </thead>\n",
       "  <tbody>\n",
       "    <tr>\n",
       "      <th>2018-03-01 00:00:00</th>\n",
       "      <td>9</td>\n",
       "    </tr>\n",
       "    <tr>\n",
       "      <th>2018-03-01 00:10:00</th>\n",
       "      <td>14</td>\n",
       "    </tr>\n",
       "    <tr>\n",
       "      <th>2018-03-01 00:20:00</th>\n",
       "      <td>28</td>\n",
       "    </tr>\n",
       "    <tr>\n",
       "      <th>2018-03-01 00:30:00</th>\n",
       "      <td>20</td>\n",
       "    </tr>\n",
       "    <tr>\n",
       "      <th>2018-03-01 00:40:00</th>\n",
       "      <td>32</td>\n",
       "    </tr>\n",
       "  </tbody>\n",
       "</table>\n",
       "</div>"
      ],
      "text/plain": [
       "                     num_orders\n",
       "datetime                       \n",
       "2018-03-01 00:00:00           9\n",
       "2018-03-01 00:10:00          14\n",
       "2018-03-01 00:20:00          28\n",
       "2018-03-01 00:30:00          20\n",
       "2018-03-01 00:40:00          32"
      ]
     },
     "execution_count": 5,
     "metadata": {},
     "output_type": "execute_result"
    }
   ],
   "source": [
    "df = df.sort_index()\n",
    "df.head()"
   ]
  },
  {
   "cell_type": "markdown",
   "metadata": {},
   "source": [
    "Теперь сделаем ресемплинг данных '1H'. Нас интересует количество заказов за час, поэтому будем использовать агрегирующую функцию sum()"
   ]
  },
  {
   "cell_type": "code",
   "execution_count": 6,
   "metadata": {},
   "outputs": [
    {
     "name": "stdout",
     "output_type": "stream",
     "text": [
      "                     num_orders\n",
      "datetime                       \n",
      "2018-03-01 00:00:00         124\n",
      "2018-03-01 01:00:00          85\n",
      "2018-03-01 02:00:00          71\n",
      "2018-03-01 03:00:00          66\n",
      "2018-03-01 04:00:00          43\n",
      "\n",
      "Новый размер датафрейма: (4416, 1)\n"
     ]
    }
   ],
   "source": [
    "df = df.resample('1H').sum()\n",
    "print(df.head())\n",
    "print('\\nНовый размер датафрейма: {}'.format(df.shape))"
   ]
  },
  {
   "cell_type": "markdown",
   "metadata": {},
   "source": [
    "### Вывод"
   ]
  },
  {
   "cell_type": "markdown",
   "metadata": {},
   "source": [
    "Данные загружены. Пропусков нет. Произведены сортировака данных по индексу и ресемплирование данных. Новый размер датафрейма: (4416, 1)."
   ]
  },
  {
   "cell_type": "markdown",
   "metadata": {},
   "source": [
    "## Анализ"
   ]
  },
  {
   "cell_type": "markdown",
   "metadata": {},
   "source": [
    "Рассмотрим график ряда."
   ]
  },
  {
   "cell_type": "code",
   "execution_count": 7,
   "metadata": {
    "scrolled": false
   },
   "outputs": [
    {
     "data": {
      "image/png": "[encoded data removed]",
      "text/plain": [
       "<Figure size 864x288 with 1 Axes>"
      ]
     },
     "metadata": {
      "needs_background": "light"
     },
     "output_type": "display_data"
    }
   ],
   "source": [
    "plt.figure(figsize=(12,4))\n",
    "df.plot(ax=plt.gca())\n",
    "plt.title('График числа заказов')\n",
    "plt.show()"
   ]
  },
  {
   "cell_type": "markdown",
   "metadata": {},
   "source": [
    "У ряда по графику виден рост в августе. Вероятно ряд не стационарен."
   ]
  },
  {
   "cell_type": "code",
   "execution_count": 8,
   "metadata": {
    "scrolled": false
   },
   "outputs": [
    {
     "data": {
      "image/png": "[encoded data removed]",
      "text/plain": [
       "<Figure size 792x720 with 3 Axes>"
      ]
     },
     "metadata": {
      "needs_background": "light"
     },
     "output_type": "display_data"
    }
   ],
   "source": [
    "#постоим графики тренда, сезонности и остатков\n",
    "decomposed = seasonal_decompose(df)\n",
    "\n",
    "plt.figure(figsize=(11, 10))\n",
    "plt.subplot(311)\n",
    "decomposed.trend.plot(ax=plt.gca())\n",
    "plt.title('Trend')\n",
    "plt.subplot(312)\n",
    "decomposed.seasonal.plot(ax=plt.gca())\n",
    "plt.title('Seasonality')\n",
    "plt.subplot(313)\n",
    "decomposed.resid.plot(ax=plt.gca())\n",
    "plt.title('Residuals')\n",
    "plt.tight_layout()"
   ]
  },
  {
   "cell_type": "markdown",
   "metadata": {},
   "source": [
    "По тренду можно заметить постепенный рост числа заказов, причем самый сильный рост происходит в августе. Сезонность тоже присутствует, но на графике сложно понять пероид. Возьмем период в месяц."
   ]
  },
  {
   "cell_type": "code",
   "execution_count": 9,
   "metadata": {},
   "outputs": [
    {
     "data": {
      "image/png": "[encoded data removed]",
      "text/plain": [
       "<Figure size 792x288 with 1 Axes>"
      ]
     },
     "metadata": {
      "needs_background": "light"
     },
     "output_type": "display_data"
    }
   ],
   "source": [
    "plt.figure(figsize=(11, 4))\n",
    "decomposed.seasonal['2018-03':'2018-04'].plot(ax=plt.gca())\n",
    "plt.title('Seasonality')\n",
    "plt.tight_layout()"
   ]
  },
  {
   "cell_type": "markdown",
   "metadata": {},
   "source": [
    "По сезонности у нас цикл в рамках одних суток."
   ]
  },
  {
   "cell_type": "markdown",
   "metadata": {},
   "source": [
    "Проведем тест Dickey-Fuller. Нулевая гипотеза H0: g = 0 (существует единичный корень, ряд нестационарный).\n",
    "\n",
    "Альтернативная гипотеза: H1: g < 0 (единичного корня нет, ряд стационарный)."
   ]
  },
  {
   "cell_type": "code",
   "execution_count": 10,
   "metadata": {},
   "outputs": [
    {
     "name": "stdout",
     "output_type": "stream",
     "text": [
      "Dickey-Fuller p-value: 0.029\n"
     ]
    }
   ],
   "source": [
    "from statsmodels.tsa.stattools import adfuller\n",
    "print(\"Dickey-Fuller p-value: {}\".format(round(adfuller(df['num_orders'])[1], 3)))\n"
   ]
  },
  {
   "cell_type": "markdown",
   "metadata": {},
   "source": [
    "p-value: 0.029 это мешьше, чем 0.05 следовательно отвергаем нулевую гипотезу. Ряд можно отмести к стационарным."
   ]
  },
  {
   "cell_type": "markdown",
   "metadata": {},
   "source": [
    "### Вывод"
   ]
  },
  {
   "cell_type": "markdown",
   "metadata": {},
   "source": [
    "Согласно тесту Dickey-Fuller ряд можно отнести к стационарным. Идет тренд на повышение числа заказов, особенно этот тренд выражен в августе. У ряда есть сезонность, цикл повторятся каждые сутки."
   ]
  },
  {
   "cell_type": "markdown",
   "metadata": {},
   "source": [
    "## Обучение"
   ]
  },
  {
   "cell_type": "markdown",
   "metadata": {},
   "source": [
    "Подготовим дополнительные признаки и разобьем генеральную совокупность на train и test."
   ]
  },
  {
   "cell_type": "code",
   "execution_count": 11,
   "metadata": {},
   "outputs": [
    {
     "data": {
      "text/html": [
       "<div>\n",
       "<style scoped>\n",
       "    .dataframe tbody tr th:only-of-type {\n",
       "        vertical-align: middle;\n",
       "    }\n",
       "\n",
       "    .dataframe tbody tr th {\n",
       "        vertical-align: top;\n",
       "    }\n",
       "\n",
       "    .dataframe thead th {\n",
       "        text-align: right;\n",
       "    }\n",
       "</style>\n",
       "<table border=\"1\" class=\"dataframe\">\n",
       "  <thead>\n",
       "    <tr style=\"text-align: right;\">\n",
       "      <th></th>\n",
       "      <th>num_orders</th>\n",
       "      <th>month</th>\n",
       "      <th>dayofweek</th>\n",
       "      <th>hour</th>\n",
       "    </tr>\n",
       "    <tr>\n",
       "      <th>datetime</th>\n",
       "      <th></th>\n",
       "      <th></th>\n",
       "      <th></th>\n",
       "      <th></th>\n",
       "    </tr>\n",
       "  </thead>\n",
       "  <tbody>\n",
       "    <tr>\n",
       "      <th>2018-03-01 00:00:00</th>\n",
       "      <td>124</td>\n",
       "      <td>3</td>\n",
       "      <td>3</td>\n",
       "      <td>0</td>\n",
       "    </tr>\n",
       "    <tr>\n",
       "      <th>2018-03-01 01:00:00</th>\n",
       "      <td>85</td>\n",
       "      <td>3</td>\n",
       "      <td>3</td>\n",
       "      <td>1</td>\n",
       "    </tr>\n",
       "    <tr>\n",
       "      <th>2018-03-01 02:00:00</th>\n",
       "      <td>71</td>\n",
       "      <td>3</td>\n",
       "      <td>3</td>\n",
       "      <td>2</td>\n",
       "    </tr>\n",
       "    <tr>\n",
       "      <th>2018-03-01 03:00:00</th>\n",
       "      <td>66</td>\n",
       "      <td>3</td>\n",
       "      <td>3</td>\n",
       "      <td>3</td>\n",
       "    </tr>\n",
       "    <tr>\n",
       "      <th>2018-03-01 04:00:00</th>\n",
       "      <td>43</td>\n",
       "      <td>3</td>\n",
       "      <td>3</td>\n",
       "      <td>4</td>\n",
       "    </tr>\n",
       "  </tbody>\n",
       "</table>\n",
       "</div>"
      ],
      "text/plain": [
       "                     num_orders  month  dayofweek  hour\n",
       "datetime                                               \n",
       "2018-03-01 00:00:00         124      3          3     0\n",
       "2018-03-01 01:00:00          85      3          3     1\n",
       "2018-03-01 02:00:00          71      3          3     2\n",
       "2018-03-01 03:00:00          66      3          3     3\n",
       "2018-03-01 04:00:00          43      3          3     4"
      ]
     },
     "execution_count": 11,
     "metadata": {},
     "output_type": "execute_result"
    }
   ],
   "source": [
    "df['month'] = df.index.month\n",
    "df['dayofweek'] = df.index.dayofweek\n",
    "df['hour'] = df.index.hour\n",
    "df.head()"
   ]
  },
  {
   "cell_type": "code",
   "execution_count": 12,
   "metadata": {},
   "outputs": [],
   "source": [
    "def make_feature_and_split(data_, max_lag, rolling_mean_size):\n",
    "    '''\n",
    "    Функция на вход получает датафрейм, максимальный сдвиг и размер окна скользящего среднего\n",
    "    создает признаки lag_ для сдвига от одного до максимального с шагом один\n",
    "    создает признак - скользящее среднее с окном размера rolling_mean_size\n",
    "    удаляет строки с пропусками\n",
    "    затем разбивает датафрем на признаки и таргет и на обучающую выборку и тестовую\n",
    "    возвращает итоговые 4 выборки\n",
    "    '''\n",
    "    data = data_.copy()\n",
    "    for i in range(1, max_lag+1):\n",
    "        data['lag_{}'.format(i)] = data['num_orders'].shift(i)\n",
    "    \n",
    "    data['rolling_mean'] = data['num_orders'].shift().rolling(rolling_mean_size).mean()\n",
    "    data = data.dropna()\n",
    "    X = data.drop('num_orders', axis = 1)\n",
    "    y = data['num_orders']\n",
    "    X_train, X_test_val, y_train, y_test_val = train_test_split(X, y, test_size =0.2, shuffle = False)\n",
    "    X_val, X_test, y_val, y_test = train_test_split(X_test_val, y_test_val, test_size =0.5, shuffle = False)\n",
    "    #print('Размер обучающей выборки - {}, размер тестовой выборки - {}'.format(X_train.shape, X_test.shape))\n",
    "    return X_train, X_val, X_test, y_train, y_val, y_test"
   ]
  },
  {
   "cell_type": "code",
   "execution_count": 13,
   "metadata": {},
   "outputs": [],
   "source": [
    "def objective(trial):\n",
    "    \n",
    "    params_for_feature = {\n",
    "        'max_lag' : trial.suggest_int(\"max_lag\", 1, 24),\n",
    "        'rolling_mean_size' : trial.suggest_int(\"rolling_mean_size\", 1, 24)\n",
    "    }\n",
    "    \n",
    "    param = {     \n",
    "        'depth' : trial.suggest_int(\"depth\", 3, 10),\n",
    "        'n_estimators' : trial.suggest_int('n_estimators', 500, 4000, log=True),\n",
    "        'learning_rate' : trial.suggest_float('learning_rate', 0.01, 0.4, log=True)\n",
    "        ###\n",
    "    }\n",
    "    \n",
    "    X_train, X_val, X_test, y_train, y_val, y_test = make_feature_and_split(df, **params_for_feature)\n",
    "    \n",
    "    \n",
    "    model = CatBoostRegressor(early_stopping_rounds = 50, loss_function='RMSE', random_seed=42, **param)\n",
    "    model.fit(X_train, y_train, eval_set=[(X_val, y_val)], verbose=0)\n",
    "    y_pred = model.predict(X_val)\n",
    "\n",
    "    rmse = mean_squared_error(y_val, y_pred)**0.5\n",
    "\n",
    "    return rmse"
   ]
  },
  {
   "cell_type": "code",
   "execution_count": 14,
   "metadata": {
    "scrolled": true
   },
   "outputs": [
    {
     "name": "stderr",
     "output_type": "stream",
     "text": [
      "\u001b[32m[I 2022-10-09 15:25:52,301]\u001b[0m A new study created in memory with name: no-name-e706dbee-68ab-452b-befe-6265270328e9\u001b[0m\n",
      "Custom logger is already specified. Specify more than one logger at same time is not thread safe.Custom logger is already specified. Specify more than one logger at same time is not thread safe.Custom logger is already specified. Specify more than one logger at same time is not thread safe.Custom logger is already specified. Specify more than one logger at same time is not thread safe.Custom logger is already specified. Specify more than one logger at same time is not thread safe.Custom logger is already specified. Specify more than one logger at same time is not thread safe.Custom logger is already specified. Specify more than one logger at same time is not thread safe.\u001b[32m[I 2022-10-09 15:25:57,989]\u001b[0m Trial 3 finished with value: 31.452701827807108 and parameters: {'max_lag': 1, 'rolling_mean_size': 7, 'depth': 9, 'n_estimators': 1382, 'learning_rate': 0.31654752866073455}. Best is trial 3 with value: 31.452701827807108.\u001b[0m\n",
      "\u001b[32m[I 2022-10-09 15:25:59,480]\u001b[0m Trial 4 finished with value: 31.166427145709267 and parameters: {'max_lag': 1, 'rolling_mean_size': 7, 'depth': 4, 'n_estimators': 1306, 'learning_rate': 0.10704422449079429}. Best is trial 4 with value: 31.166427145709267.\u001b[0m\n",
      "\u001b[32m[I 2022-10-09 15:26:06,184]\u001b[0m Trial 0 finished with value: 31.874309972918944 and parameters: {'max_lag': 2, 'rolling_mean_size': 4, 'depth': 7, 'n_estimators': 2660, 'learning_rate': 0.08092138748554896}. Best is trial 4 with value: 31.166427145709267.\u001b[0m\n",
      "\u001b[32m[I 2022-10-09 15:26:12,680]\u001b[0m Trial 10 finished with value: 31.715982136615324 and parameters: {'max_lag': 9, 'rolling_mean_size': 5, 'depth': 7, 'n_estimators': 776, 'learning_rate': 0.39120325145111573}. Best is trial 4 with value: 31.166427145709267.\u001b[0m\n",
      "\u001b[32m[I 2022-10-09 15:26:14,777]\u001b[0m Trial 9 finished with value: 30.974705792551696 and parameters: {'max_lag': 14, 'rolling_mean_size': 2, 'depth': 5, 'n_estimators': 544, 'learning_rate': 0.08113369867724708}. Best is trial 9 with value: 30.974705792551696.\u001b[0m\n",
      "\u001b[32m[I 2022-10-09 15:26:15,479]\u001b[0m Trial 2 finished with value: 31.215567831626863 and parameters: {'max_lag': 12, 'rolling_mean_size': 17, 'depth': 5, 'n_estimators': 569, 'learning_rate': 0.03354911943622014}. Best is trial 9 with value: 30.974705792551696.\u001b[0m\n",
      "\u001b[32m[I 2022-10-09 15:26:17,876]\u001b[0m Trial 7 finished with value: 32.23492758624393 and parameters: {'max_lag': 7, 'rolling_mean_size': 14, 'depth': 10, 'n_estimators': 550, 'learning_rate': 0.22682036416020754}. Best is trial 9 with value: 30.974705792551696.\u001b[0m\n",
      "\u001b[32m[I 2022-10-09 15:26:23,480]\u001b[0m Trial 14 finished with value: 30.560138501740706 and parameters: {'max_lag': 1, 'rolling_mean_size': 20, 'depth': 6, 'n_estimators': 2079, 'learning_rate': 0.361280500419992}. Best is trial 14 with value: 30.560138501740706.\u001b[0m\n",
      "\u001b[32m[I 2022-10-09 15:26:33,178]\u001b[0m Trial 11 finished with value: 30.963724011897163 and parameters: {'max_lag': 17, 'rolling_mean_size': 16, 'depth': 5, 'n_estimators': 1848, 'learning_rate': 0.07571655301359573}. Best is trial 14 with value: 30.560138501740706.\u001b[0m\n",
      "\u001b[32m[I 2022-10-09 15:26:41,584]\u001b[0m Trial 12 finished with value: 31.789577756748326 and parameters: {'max_lag': 21, 'rolling_mean_size': 4, 'depth': 7, 'n_estimators': 1613, 'learning_rate': 0.09625700559093237}. Best is trial 14 with value: 30.560138501740706.\u001b[0m\n",
      "\u001b[32m[I 2022-10-09 15:26:50,790]\u001b[0m Trial 15 finished with value: 32.1758634212321 and parameters: {'max_lag': 5, 'rolling_mean_size': 4, 'depth': 9, 'n_estimators': 827, 'learning_rate': 0.08975375120237833}. Best is trial 14 with value: 30.560138501740706.\u001b[0m\n",
      "\u001b[32m[I 2022-10-09 15:27:29,983]\u001b[0m Trial 1 finished with value: 31.20528493265815 and parameters: {'max_lag': 18, 'rolling_mean_size': 20, 'depth': 7, 'n_estimators': 1920, 'learning_rate': 0.027164965193818832}. Best is trial 14 with value: 30.560138501740706.\u001b[0m\n",
      "\u001b[32m[I 2022-10-09 15:27:34,387]\u001b[0m Trial 5 finished with value: 31.985575154339283 and parameters: {'max_lag': 9, 'rolling_mean_size': 23, 'depth': 8, 'n_estimators': 1256, 'learning_rate': 0.01735757619448098}. Best is trial 14 with value: 30.560138501740706.\u001b[0m\n",
      "\u001b[32m[I 2022-10-09 15:27:35,001]\u001b[0m Trial 8 finished with value: 32.329036391148264 and parameters: {'max_lag': 23, 'rolling_mean_size': 24, 'depth': 10, 'n_estimators': 1120, 'learning_rate': 0.12159048555075655}. Best is trial 14 with value: 30.560138501740706.\u001b[0m\n",
      "\u001b[32m[I 2022-10-09 15:27:40,787]\u001b[0m Trial 13 finished with value: 31.001208109327454 and parameters: {'max_lag': 20, 'rolling_mean_size': 5, 'depth': 3, 'n_estimators': 3011, 'learning_rate': 0.010493323453767321}. Best is trial 14 with value: 30.560138501740706.\u001b[0m\n",
      "\u001b[32m[I 2022-10-09 15:27:41,738]\u001b[0m Trial 20 finished with value: 32.23753675949653 and parameters: {'max_lag': 24, 'rolling_mean_size': 12, 'depth': 3, 'n_estimators': 3133, 'learning_rate': 0.1796652303179763}. Best is trial 14 with value: 30.560138501740706.\u001b[0m\n",
      "\u001b[32m[I 2022-10-09 15:27:47,585]\u001b[0m Trial 17 finished with value: 31.566968269131543 and parameters: {'max_lag': 24, 'rolling_mean_size': 24, 'depth': 3, 'n_estimators': 3526, 'learning_rate': 0.014786619833744312}. Best is trial 14 with value: 30.560138501740706.\u001b[0m\n",
      "\u001b[32m[I 2022-10-09 15:27:53,279]\u001b[0m Trial 22 finished with value: 31.46406043442512 and parameters: {'max_lag': 16, 'rolling_mean_size': 13, 'depth': 5, 'n_estimators': 2237, 'learning_rate': 0.1696983250667363}. Best is trial 14 with value: 30.560138501740706.\u001b[0m\n",
      "\u001b[32m[I 2022-10-09 15:27:57,886]\u001b[0m Trial 18 finished with value: 31.434462742578855 and parameters: {'max_lag': 19, 'rolling_mean_size': 23, 'depth': 3, 'n_estimators': 2943, 'learning_rate': 0.014041190143701147}. Best is trial 14 with value: 30.560138501740706.\u001b[0m\n",
      "\u001b[32m[I 2022-10-09 15:28:01,302]\u001b[0m Trial 23 finished with value: 31.165424472684848 and parameters: {'max_lag': 17, 'rolling_mean_size': 17, 'depth': 5, 'n_estimators': 2190, 'learning_rate': 0.05719110327416748}. Best is trial 14 with value: 30.560138501740706.\u001b[0m\n",
      "\u001b[32m[I 2022-10-09 15:28:01,880]\u001b[0m Trial 16 finished with value: 31.899098579952906 and parameters: {'max_lag': 5, 'rolling_mean_size': 20, 'depth': 10, 'n_estimators': 596, 'learning_rate': 0.022933468544859774}. Best is trial 14 with value: 30.560138501740706.\u001b[0m\n",
      "\u001b[32m[I 2022-10-09 15:28:06,080]\u001b[0m Trial 24 finished with value: 30.772235315069924 and parameters: {'max_lag': 16, 'rolling_mean_size': 18, 'depth': 5, 'n_estimators': 2233, 'learning_rate': 0.05067610278225703}. Best is trial 14 with value: 30.560138501740706.\u001b[0m\n",
      "\u001b[32m[I 2022-10-09 15:28:27,784]\u001b[0m Trial 27 finished with value: 30.780322754116465 and parameters: {'max_lag': 13, 'rolling_mean_size': 18, 'depth': 6, 'n_estimators': 1751, 'learning_rate': 0.0474425703841464}. Best is trial 14 with value: 30.560138501740706.\u001b[0m\n",
      "\u001b[32m[I 2022-10-09 15:28:29,785]\u001b[0m Trial 29 finished with value: 30.94579644945189 and parameters: {'max_lag': 14, 'rolling_mean_size': 17, 'depth': 6, 'n_estimators': 2014, 'learning_rate': 0.04145582850340475}. Best is trial 14 with value: 30.560138501740706.\u001b[0m\n",
      "\u001b[32m[I 2022-10-09 15:28:30,399]\u001b[0m Trial 25 finished with value: 30.33639470928414 and parameters: {'max_lag': 13, 'rolling_mean_size': 18, 'depth': 6, 'n_estimators': 2076, 'learning_rate': 0.04980221989804029}. Best is trial 25 with value: 30.33639470928414.\u001b[0m\n",
      "\u001b[32m[I 2022-10-09 15:28:31,481]\u001b[0m Trial 28 finished with value: 30.74866675513769 and parameters: {'max_lag': 13, 'rolling_mean_size': 10, 'depth': 6, 'n_estimators': 1734, 'learning_rate': 0.04099259804737073}. Best is trial 25 with value: 30.33639470928414.\u001b[0m\n",
      "\u001b[32m[I 2022-10-09 15:28:32,580]\u001b[0m Trial 26 finished with value: 30.73934787992485 and parameters: {'max_lag': 13, 'rolling_mean_size': 18, 'depth': 6, 'n_estimators': 1918, 'learning_rate': 0.0483803117785301}. Best is trial 25 with value: 30.33639470928414.\u001b[0m\n",
      "\u001b[32m[I 2022-10-09 15:28:39,487]\u001b[0m Trial 21 finished with value: 31.167226718158457 and parameters: {'max_lag': 17, 'rolling_mean_size': 11, 'depth': 3, 'n_estimators': 3227, 'learning_rate': 0.010404479128669064}. Best is trial 25 with value: 30.33639470928414.\u001b[0m\n",
      "\u001b[32m[I 2022-10-09 15:28:41,284]\u001b[0m Trial 19 finished with value: 31.45330798779317 and parameters: {'max_lag': 17, 'rolling_mean_size': 24, 'depth': 3, 'n_estimators': 2944, 'learning_rate': 0.011697385740627966}. Best is trial 25 with value: 30.33639470928414.\u001b[0m\n",
      "\u001b[32m[I 2022-10-09 15:28:50,079]\u001b[0m Trial 31 finished with value: 31.77454193624732 and parameters: {'max_lag': 11, 'rolling_mean_size': 20, 'depth': 6, 'n_estimators': 1624, 'learning_rate': 0.053772249157465646}. Best is trial 25 with value: 30.33639470928414.\u001b[0m\n",
      "\u001b[32m[I 2022-10-09 15:28:52,177]\u001b[0m Trial 32 finished with value: 31.655350426360265 and parameters: {'max_lag': 11, 'rolling_mean_size': 20, 'depth': 6, 'n_estimators': 3889, 'learning_rate': 0.04693344664135599}. Best is trial 25 with value: 30.33639470928414.\u001b[0m\n",
      "\u001b[32m[I 2022-10-09 15:28:57,777]\u001b[0m Trial 35 finished with value: 32.173912087720524 and parameters: {'max_lag': 11, 'rolling_mean_size': 21, 'depth': 8, 'n_estimators': 2565, 'learning_rate': 0.15099182974663808}. Best is trial 25 with value: 30.33639470928414.\u001b[0m\n",
      "\u001b[32m[I 2022-10-09 15:29:05,086]\u001b[0m Trial 30 finished with value: 30.61271060580205 and parameters: {'max_lag': 13, 'rolling_mean_size': 20, 'depth': 6, 'n_estimators': 2301, 'learning_rate': 0.044814964859618174}. Best is trial 25 with value: 30.33639470928414.\u001b[0m\n",
      "\u001b[32m[I 2022-10-09 15:29:05,783]\u001b[0m Trial 34 finished with value: 31.56643818834146 and parameters: {'max_lag': 10, 'rolling_mean_size': 21, 'depth': 8, 'n_estimators': 2610, 'learning_rate': 0.06292311943097134}. Best is trial 25 with value: 30.33639470928414.\u001b[0m\n",
      "\u001b[32m[I 2022-10-09 15:29:06,685]\u001b[0m Trial 33 finished with value: 31.74949914107 and parameters: {'max_lag': 11, 'rolling_mean_size': 10, 'depth': 6, 'n_estimators': 1543, 'learning_rate': 0.034805904382540935}. Best is trial 25 with value: 30.33639470928414.\u001b[0m\n",
      "\u001b[32m[I 2022-10-09 15:29:12,784]\u001b[0m Trial 37 finished with value: 31.744051578702102 and parameters: {'max_lag': 10, 'rolling_mean_size': 15, 'depth': 8, 'n_estimators': 2425, 'learning_rate': 0.1353185940255685}. Best is trial 25 with value: 30.33639470928414.\u001b[0m\n",
      "\u001b[32m[I 2022-10-09 15:29:18,481]\u001b[0m Trial 41 finished with value: 31.973271466366512 and parameters: {'max_lag': 7, 'rolling_mean_size': 16, 'depth': 4, 'n_estimators': 2323, 'learning_rate': 0.031450162517770254}. Best is trial 25 with value: 30.33639470928414.\u001b[0m\n",
      "\u001b[32m[I 2022-10-09 15:29:22,482]\u001b[0m Trial 40 finished with value: 31.727384829889342 and parameters: {'max_lag': 9, 'rolling_mean_size': 15, 'depth': 4, 'n_estimators': 2553, 'learning_rate': 0.031221367838016115}. Best is trial 25 with value: 30.33639470928414.\u001b[0m\n",
      "\u001b[32m[I 2022-10-09 15:29:23,178]\u001b[0m Trial 39 finished with value: 31.609649081063182 and parameters: {'max_lag': 9, 'rolling_mean_size': 10, 'depth': 6, 'n_estimators': 2445, 'learning_rate': 0.033188633681963974}. Best is trial 25 with value: 30.33639470928414.\u001b[0m\n",
      "\u001b[32m[I 2022-10-09 15:29:25,197]\u001b[0m Trial 43 finished with value: 31.21229874347123 and parameters: {'max_lag': 3, 'rolling_mean_size': 19, 'depth': 4, 'n_estimators': 2053, 'learning_rate': 0.030876810635517577}. Best is trial 25 with value: 30.33639470928414.\u001b[0m\n",
      "\u001b[32m[I 2022-10-09 15:29:26,183]\u001b[0m Trial 42 finished with value: 31.126362652663158 and parameters: {'max_lag': 3, 'rolling_mean_size': 15, 'depth': 4, 'n_estimators': 2513, 'learning_rate': 0.022810345159304017}. Best is trial 25 with value: 30.33639470928414.\u001b[0m\n",
      "\u001b[32m[I 2022-10-09 15:29:37,878]\u001b[0m Trial 38 finished with value: 31.879007437843796 and parameters: {'max_lag': 9, 'rolling_mean_size': 10, 'depth': 8, 'n_estimators': 2460, 'learning_rate': 0.030252560238494767}. Best is trial 25 with value: 30.33639470928414.\u001b[0m\n",
      "\u001b[32m[I 2022-10-09 15:29:59,577]\u001b[0m Trial 36 finished with value: 31.843969736160282 and parameters: {'max_lag': 10, 'rolling_mean_size': 21, 'depth': 8, 'n_estimators': 2599, 'learning_rate': 0.03021875558798998}. Best is trial 25 with value: 30.33639470928414.\u001b[0m\n",
      "\u001b[32m[I 2022-10-09 15:30:04,778]\u001b[0m Trial 49 finished with value: 30.872355057280917 and parameters: {'max_lag': 13, 'rolling_mean_size': 8, 'depth': 7, 'n_estimators': 1454, 'learning_rate': 0.07022278008559589}. Best is trial 25 with value: 30.33639470928414.\u001b[0m\n",
      "\u001b[32m[I 2022-10-09 15:30:06,686]\u001b[0m Trial 48 finished with value: 30.8770246393698 and parameters: {'max_lag': 13, 'rolling_mean_size': 8, 'depth': 7, 'n_estimators': 1191, 'learning_rate': 0.04063035608665286}. Best is trial 25 with value: 30.33639470928414.\u001b[0m\n",
      "\u001b[32m[I 2022-10-09 15:30:32,084]\u001b[0m Trial 50 finished with value: 30.934387968172874 and parameters: {'max_lag': 14, 'rolling_mean_size': 7, 'depth': 7, 'n_estimators': 1446, 'learning_rate': 0.06756773651089219}. Best is trial 25 with value: 30.33639470928414.\u001b[0m\n",
      "\u001b[32m[I 2022-10-09 15:30:33,480]\u001b[0m Trial 46 finished with value: 31.278747953028432 and parameters: {'max_lag': 15, 'rolling_mean_size': 19, 'depth': 7, 'n_estimators': 1991, 'learning_rate': 0.023105372839305627}. Best is trial 25 with value: 30.33639470928414.\u001b[0m\n",
      "\u001b[32m[I 2022-10-09 15:30:36,785]\u001b[0m Trial 47 finished with value: 31.270271945290062 and parameters: {'max_lag': 15, 'rolling_mean_size': 22, 'depth': 7, 'n_estimators': 1144, 'learning_rate': 0.020073469414318805}. Best is trial 25 with value: 30.33639470928414.\u001b[0m\n",
      "\u001b[32m[I 2022-10-09 15:31:06,088]\u001b[0m Trial 44 finished with value: 30.957365932370948 and parameters: {'max_lag': 15, 'rolling_mean_size': 22, 'depth': 7, 'n_estimators': 2000, 'learning_rate': 0.020836454335453718}. Best is trial 25 with value: 30.33639470928414.\u001b[0m\n",
      "\u001b[32m[I 2022-10-09 15:31:10,787]\u001b[0m Trial 54 finished with value: 31.068313280907418 and parameters: {'max_lag': 12, 'rolling_mean_size': 22, 'depth': 6, 'n_estimators': 1766, 'learning_rate': 0.03907107470845493}. Best is trial 25 with value: 30.33639470928414.\u001b[0m\n",
      "\u001b[32m[I 2022-10-09 15:31:14,480]\u001b[0m Trial 56 finished with value: 31.02751588767904 and parameters: {'max_lag': 12, 'rolling_mean_size': 13, 'depth': 6, 'n_estimators': 1758, 'learning_rate': 0.22999630778478133}. Best is trial 25 with value: 30.33639470928414.\u001b[0m\n",
      "\u001b[32m[I 2022-10-09 15:31:16,080]\u001b[0m Trial 57 finished with value: 31.609954446725624 and parameters: {'max_lag': 7, 'rolling_mean_size': 13, 'depth': 5, 'n_estimators': 1875, 'learning_rate': 0.28904177165775835}. Best is trial 25 with value: 30.33639470928414.\u001b[0m\n",
      "\u001b[32m[I 2022-10-09 15:31:17,093]\u001b[0m Trial 45 finished with value: 30.696738815667604 and parameters: {'max_lag': 15, 'rolling_mean_size': 22, 'depth': 7, 'n_estimators': 2058, 'learning_rate': 0.023595388426050194}. Best is trial 25 with value: 30.33639470928414.\u001b[0m\n",
      "\u001b[32m[I 2022-10-09 15:31:21,687]\u001b[0m Trial 55 finished with value: 30.749614066447243 and parameters: {'max_lag': 15, 'rolling_mean_size': 22, 'depth': 6, 'n_estimators': 1743, 'learning_rate': 0.041084523302427976}. Best is trial 25 with value: 30.33639470928414.\u001b[0m\n",
      "\u001b[32m[I 2022-10-09 15:31:32,388]\u001b[0m Trial 51 finished with value: 30.973478775713623 and parameters: {'max_lag': 15, 'rolling_mean_size': 22, 'depth': 7, 'n_estimators': 1222, 'learning_rate': 0.03876323524140069}. Best is trial 25 with value: 30.33639470928414.\u001b[0m\n",
      "\u001b[32m[I 2022-10-09 15:31:33,006]\u001b[0m Trial 53 finished with value: 30.766620933686482 and parameters: {'max_lag': 15, 'rolling_mean_size': 22, 'depth': 5, 'n_estimators': 1838, 'learning_rate': 0.02405173811182734}. Best is trial 25 with value: 30.33639470928414.\u001b[0m\n",
      "\u001b[32m[I 2022-10-09 15:31:39,082]\u001b[0m Trial 60 finished with value: 30.776735866091016 and parameters: {'max_lag': 15, 'rolling_mean_size': 19, 'depth': 6, 'n_estimators': 1604, 'learning_rate': 0.08908595892143166}. Best is trial 25 with value: 30.33639470928414.\u001b[0m\n",
      "\u001b[32m[I 2022-10-09 15:31:41,683]\u001b[0m Trial 59 finished with value: 30.793314230799684 and parameters: {'max_lag': 16, 'rolling_mean_size': 18, 'depth': 5, 'n_estimators': 2237, 'learning_rate': 0.05434706882655906}. Best is trial 25 with value: 30.33639470928414.\u001b[0m\n",
      "\u001b[32m[I 2022-10-09 15:31:44,378]\u001b[0m Trial 58 finished with value: 30.84970571588221 and parameters: {'max_lag': 16, 'rolling_mean_size': 18, 'depth': 5, 'n_estimators': 2131, 'learning_rate': 0.0484196830617905}. Best is trial 25 with value: 30.33639470928414.\u001b[0m\n",
      "\u001b[32m[I 2022-10-09 15:31:45,881]\u001b[0m Trial 62 finished with value: 30.862151796311153 and parameters: {'max_lag': 13, 'rolling_mean_size': 19, 'depth': 5, 'n_estimators': 1328, 'learning_rate': 0.10197721296641343}. Best is trial 25 with value: 30.33639470928414.\u001b[0m\n",
      "\u001b[32m[I 2022-10-09 15:31:49,183]\u001b[0m Trial 61 finished with value: 30.641912160095476 and parameters: {'max_lag': 19, 'rolling_mean_size': 19, 'depth': 5, 'n_estimators': 1028, 'learning_rate': 0.08404770112337603}. Best is trial 25 with value: 30.33639470928414.\u001b[0m\n",
      "\u001b[32m[I 2022-10-09 15:31:56,082]\u001b[0m Trial 63 finished with value: 31.292055797702528 and parameters: {'max_lag': 19, 'rolling_mean_size': 19, 'depth': 6, 'n_estimators': 2824, 'learning_rate': 0.0610500382021582}. Best is trial 25 with value: 30.33639470928414.\u001b[0m\n",
      "\u001b[32m[I 2022-10-09 15:31:57,294]\u001b[0m Trial 65 finished with value: 31.419756128651013 and parameters: {'max_lag': 19, 'rolling_mean_size': 23, 'depth': 6, 'n_estimators': 1045, 'learning_rate': 0.11276740107821884}. Best is trial 25 with value: 30.33639470928414.\u001b[0m\n",
      "\u001b[32m[I 2022-10-09 15:31:58,379]\u001b[0m Trial 68 finished with value: 32.75441866469069 and parameters: {'max_lag': 21, 'rolling_mean_size': 23, 'depth': 6, 'n_estimators': 1047, 'learning_rate': 0.37874248233773017}. Best is trial 25 with value: 30.33639470928414.\u001b[0m\n",
      "\u001b[32m[I 2022-10-09 15:31:59,195]\u001b[0m Trial 64 finished with value: 30.88231728162195 and parameters: {'max_lag': 18, 'rolling_mean_size': 18, 'depth': 5, 'n_estimators': 1318, 'learning_rate': 0.060641236987484935}. Best is trial 25 with value: 30.33639470928414.\u001b[0m\n",
      "\u001b[32m[I 2022-10-09 15:32:04,182]\u001b[0m Trial 66 finished with value: 31.503914915973684 and parameters: {'max_lag': 19, 'rolling_mean_size': 23, 'depth': 6, 'n_estimators': 1031, 'learning_rate': 0.11363881853595374}. Best is trial 25 with value: 30.33639470928414.\u001b[0m\n",
      "\u001b[32m[I 2022-10-09 15:32:05,881]\u001b[0m Trial 70 finished with value: 31.816796678997793 and parameters: {'max_lag': 18, 'rolling_mean_size': 20, 'depth': 6, 'n_estimators': 1000, 'learning_rate': 0.39885599394189664}. Best is trial 25 with value: 30.33639470928414.\u001b[0m\n",
      "\u001b[32m[I 2022-10-09 15:32:17,477]\u001b[0m Trial 52 finished with value: 30.7108611885567 and parameters: {'max_lag': 15, 'rolling_mean_size': 22, 'depth': 7, 'n_estimators': 1778, 'learning_rate': 0.02225217416301227}. Best is trial 25 with value: 30.33639470928414.\u001b[0m\n",
      "\u001b[32m[I 2022-10-09 15:32:36,380]\u001b[0m Trial 73 finished with value: 30.984151194150524 and parameters: {'max_lag': 12, 'rolling_mean_size': 16, 'depth': 7, 'n_estimators': 2798, 'learning_rate': 0.07981304154728426}. Best is trial 25 with value: 30.33639470928414.\u001b[0m\n",
      "\u001b[32m[I 2022-10-09 15:32:41,782]\u001b[0m Trial 69 finished with value: 31.494344184883456 and parameters: {'max_lag': 22, 'rolling_mean_size': 23, 'depth': 6, 'n_estimators': 1006, 'learning_rate': 0.0793766886659041}. Best is trial 25 with value: 30.33639470928414.\u001b[0m\n",
      "\u001b[32m[I 2022-10-09 15:32:50,888]\u001b[0m Trial 67 finished with value: 31.393973883623847 and parameters: {'max_lag': 19, 'rolling_mean_size': 24, 'depth': 6, 'n_estimators': 2798, 'learning_rate': 0.026356655859559697}. Best is trial 25 with value: 30.33639470928414.\u001b[0m\n",
      "\u001b[32m[I 2022-10-09 15:33:28,695]\u001b[0m Trial 71 finished with value: 31.628817339195606 and parameters: {'max_lag': 22, 'rolling_mean_size': 16, 'depth': 7, 'n_estimators': 892, 'learning_rate': 0.026696566509935137}. Best is trial 25 with value: 30.33639470928414.\u001b[0m\n",
      "\u001b[32m[I 2022-10-09 15:33:39,980]\u001b[0m Trial 72 finished with value: 31.74976869922257 and parameters: {'max_lag': 22, 'rolling_mean_size': 16, 'depth': 7, 'n_estimators': 818, 'learning_rate': 0.026549487268273997}. Best is trial 25 with value: 30.33639470928414.\u001b[0m\n",
      "\u001b[32m[I 2022-10-09 15:33:42,789]\u001b[0m Trial 77 finished with value: 32.057553738252174 and parameters: {'max_lag': 14, 'rolling_mean_size': 21, 'depth': 7, 'n_estimators': 627, 'learning_rate': 0.014371792022059203}. Best is trial 25 with value: 30.33639470928414.\u001b[0m\n",
      "\u001b[32m[I 2022-10-09 15:33:51,589]\u001b[0m Trial 78 finished with value: 32.07629078424045 and parameters: {'max_lag': 14, 'rolling_mean_size': 1, 'depth': 7, 'n_estimators': 611, 'learning_rate': 0.014096513158633497}. Best is trial 25 with value: 30.33639470928414.\u001b[0m\n",
      "\u001b[32m[I 2022-10-09 15:34:09,684]\u001b[0m Trial 80 finished with value: 31.680538615443794 and parameters: {'max_lag': 14, 'rolling_mean_size': 21, 'depth': 5, 'n_estimators': 681, 'learning_rate': 0.017736091754386313}. Best is trial 25 with value: 30.33639470928414.\u001b[0m\n",
      "\u001b[32m[I 2022-10-09 15:34:17,181]\u001b[0m Trial 82 finished with value: 30.993407668245183 and parameters: {'max_lag': 13, 'rolling_mean_size': 20, 'depth': 5, 'n_estimators': 2088, 'learning_rate': 0.036202751097552464}. Best is trial 25 with value: 30.33639470928414.\u001b[0m\n",
      "\u001b[32m[I 2022-10-09 15:34:39,881]\u001b[0m Trial 84 finished with value: 31.704169747820973 and parameters: {'max_lag': 11, 'rolling_mean_size': 17, 'depth': 6, 'n_estimators': 1900, 'learning_rate': 0.044144788152798285}. Best is trial 25 with value: 30.33639470928414.\u001b[0m\n",
      "\u001b[32m[I 2022-10-09 15:34:42,081]\u001b[0m Trial 81 finished with value: 30.93134238403839 and parameters: {'max_lag': 1, 'rolling_mean_size': 20, 'depth': 9, 'n_estimators': 1551, 'learning_rate': 0.01909303804606176}. Best is trial 25 with value: 30.33639470928414.\u001b[0m\n",
      "\u001b[32m[I 2022-10-09 15:35:29,884]\u001b[0m Trial 76 finished with value: 32.11886995916856 and parameters: {'max_lag': 14, 'rolling_mean_size': 24, 'depth': 9, 'n_estimators': 695, 'learning_rate': 0.014306639156895532}. Best is trial 25 with value: 30.33639470928414.\u001b[0m\n",
      "\u001b[32m[I 2022-10-09 15:35:41,679]\u001b[0m Trial 83 finished with value: 30.906785840793123 and parameters: {'max_lag': 13, 'rolling_mean_size': 20, 'depth': 6, 'n_estimators': 2102, 'learning_rate': 0.016231709029598643}. Best is trial 25 with value: 30.33639470928414.\u001b[0m\n",
      "\u001b[32m[I 2022-10-09 15:35:58,885]\u001b[0m Trial 87 finished with value: 32.26274180305658 and parameters: {'max_lag': 6, 'rolling_mean_size': 9, 'depth': 8, 'n_estimators': 2319, 'learning_rate': 0.05204630552602404}. Best is trial 25 with value: 30.33639470928414.\u001b[0m\n",
      "\u001b[32m[I 2022-10-09 15:36:05,489]\u001b[0m Trial 86 finished with value: 31.60680820410911 and parameters: {'max_lag': 17, 'rolling_mean_size': 11, 'depth': 8, 'n_estimators': 503, 'learning_rate': 0.053849032600399326}. Best is trial 25 with value: 30.33639470928414.\u001b[0m\n",
      "\u001b[32m[I 2022-10-09 15:36:16,794]\u001b[0m Trial 88 finished with value: 31.208154164000252 and parameters: {'max_lag': 16, 'rolling_mean_size': 21, 'depth': 6, 'n_estimators': 1684, 'learning_rate': 0.04352107198271508}. Best is trial 25 with value: 30.33639470928414.\u001b[0m\n",
      "\u001b[32m[I 2022-10-09 15:36:52,482]\u001b[0m Trial 75 finished with value: 32.206942173055545 and parameters: {'max_lag': 22, 'rolling_mean_size': 24, 'depth': 9, 'n_estimators': 851, 'learning_rate': 0.016440868817288068}. Best is trial 25 with value: 30.33639470928414.\u001b[0m\n",
      "\u001b[32m[I 2022-10-09 15:36:54,688]\u001b[0m Trial 74 finished with value: 32.01733962274286 and parameters: {'max_lag': 22, 'rolling_mean_size': 16, 'depth': 9, 'n_estimators': 888, 'learning_rate': 0.015779053301340783}. Best is trial 25 with value: 30.33639470928414.\u001b[0m\n",
      "\u001b[32m[I 2022-10-09 15:37:22,092]\u001b[0m Trial 85 finished with value: 31.43767936727514 and parameters: {'max_lag': 17, 'rolling_mean_size': 11, 'depth': 8, 'n_estimators': 1683, 'learning_rate': 0.011682134800054018}. Best is trial 25 with value: 30.33639470928414.\u001b[0m\n",
      "\u001b[32m[I 2022-10-09 15:37:29,910]\u001b[0m Trial 6 finished with value: 31.706945520367828 and parameters: {'max_lag': 19, 'rolling_mean_size': 4, 'depth': 10, 'n_estimators': 3494, 'learning_rate': 0.012026377670442116}. Best is trial 25 with value: 30.33639470928414.\u001b[0m\n",
      "\u001b[32m[I 2022-10-09 15:37:31,843]\u001b[0m Trial 79 finished with value: 31.279468180092632 and parameters: {'max_lag': 14, 'rolling_mean_size': 21, 'depth': 9, 'n_estimators': 1916, 'learning_rate': 0.01627868590003674}. Best is trial 25 with value: 30.33639470928414.\u001b[0m\n"
     ]
    },
    {
     "name": "stdout",
     "output_type": "stream",
     "text": [
      "CPU times: user 11min 24s, sys: 12.1 s, total: 11min 36s\n",
      "Wall time: 11min 39s\n"
     ]
    }
   ],
   "source": [
    "%%time\n",
    "study = optuna.create_study(direction='minimize')\n",
    "study.optimize(objective, n_trials=100, timeout=600, n_jobs=-1)"
   ]
  },
  {
   "cell_type": "code",
   "execution_count": 15,
   "metadata": {
    "scrolled": false
   },
   "outputs": [
    {
     "data": {
      "text/plain": [
       "{'max_lag': 13,\n",
       " 'rolling_mean_size': 18,\n",
       " 'depth': 6,\n",
       " 'n_estimators': 2076,\n",
       " 'learning_rate': 0.04980221989804029}"
      ]
     },
     "execution_count": 15,
     "metadata": {},
     "output_type": "execute_result"
    }
   ],
   "source": [
    "best_params = study.best_trial.params\n",
    "best_params"
   ]
  },
  {
   "cell_type": "code",
   "execution_count": 16,
   "metadata": {},
   "outputs": [
    {
     "name": "stdout",
     "output_type": "stream",
     "text": [
      "Best RMSE score on validation - 30.33639470928414\n"
     ]
    }
   ],
   "source": [
    "print('Best RMSE score on validation - {}'.format(study.best_trial.value))"
   ]
  },
  {
   "cell_type": "markdown",
   "metadata": {},
   "source": [
    "### Вывод"
   ]
  },
  {
   "cell_type": "markdown",
   "metadata": {},
   "source": [
    "Модель обучена. показатель RMSE менее 35. Однако мы момним, что в августе сребнее значение начало сильно расти, а именно август у нас в тестовой выборке. Проверим как наша модель сможет справиться с такой проблемой. "
   ]
  },
  {
   "cell_type": "markdown",
   "metadata": {},
   "source": [
    "## Тестирование"
   ]
  },
  {
   "cell_type": "markdown",
   "metadata": {},
   "source": [
    "Обучим модель на лучших параметрах."
   ]
  },
  {
   "cell_type": "code",
   "execution_count": 17,
   "metadata": {
    "scrolled": false
   },
   "outputs": [
    {
     "data": {
      "application/vnd.jupyter.widget-view+json": {
       "model_id": "c72ada2f66bc4a40b6108fc75c08d0e6",
       "version_major": 2,
       "version_minor": 0
      },
      "text/plain": [
       "MetricVisualizer(layout=Layout(align_self='stretch', height='500px'))"
      ]
     },
     "metadata": {},
     "output_type": "display_data"
    },
    {
     "name": "stdout",
     "output_type": "stream",
     "text": [
      "RMSE на валидации 30.33639470928414\n"
     ]
    }
   ],
   "source": [
    "X_train, X_val, X_test, y_train, y_val, y_test = make_feature_and_split(df,\n",
    "                                                          max_lag = best_params['max_lag'],\n",
    "                                                          rolling_mean_size = best_params['rolling_mean_size']\n",
    "                                                         )\n",
    "\n",
    "model = CatBoostRegressor(early_stopping_rounds = 50,\n",
    "                          random_seed=42,\n",
    "                          loss_function='RMSE', \n",
    "                          depth = best_params['depth'],\n",
    "                          n_estimators = best_params['n_estimators'],\n",
    "                          learning_rate = best_params['learning_rate']                         \n",
    "                         )\n",
    "model.fit(X_train, y_train, verbose=0, plot=True, eval_set=[(X_val, y_val)])\n",
    "y_pred = model.predict(X_val)\n",
    "\n",
    "rmse = mean_squared_error(y_val, y_pred)**0.5\n",
    "\n",
    "print(\"RMSE на валидации {}\".format(rmse))"
   ]
  },
  {
   "cell_type": "markdown",
   "metadata": {},
   "source": [
    "RMSE на валидации 30.371842224084034. Показатель очень хороший, но мы помним, что что Август - месяц достаточно сильных изменений, по сравнению с предыдущими месяцами. Проверим модель на тесте. Предварительно добавим валидационную выборку к обучающей."
   ]
  },
  {
   "cell_type": "code",
   "execution_count": 18,
   "metadata": {},
   "outputs": [],
   "source": [
    "X_train = pd.concat([X_train, X_val])\n",
    "y_train = pd.concat([y_train, y_val])"
   ]
  },
  {
   "cell_type": "markdown",
   "metadata": {},
   "source": [
    "Заново обучим модель и немного увеличим количество n_estimators (рекомендуется разработчиками CatBoost при увеличении выборки)."
   ]
  },
  {
   "cell_type": "code",
   "execution_count": 19,
   "metadata": {
    "scrolled": false
   },
   "outputs": [
    {
     "data": {
      "application/vnd.jupyter.widget-view+json": {
       "model_id": "08304176a28448d687f6835f15e76387",
       "version_major": 2,
       "version_minor": 0
      },
      "text/plain": [
       "MetricVisualizer(layout=Layout(align_self='stretch', height='500px'))"
      ]
     },
     "metadata": {},
     "output_type": "display_data"
    },
    {
     "name": "stdout",
     "output_type": "stream",
     "text": [
      "RMSE на тесте 42.81787724981379\n"
     ]
    }
   ],
   "source": [
    "model = CatBoostRegressor(early_stopping_rounds = 50,\n",
    "                          random_seed=42,\n",
    "                          loss_function='RMSE', \n",
    "                          depth = best_params['depth'],\n",
    "                          n_estimators = int(best_params['n_estimators'] * 1.1),\n",
    "                          learning_rate = best_params['learning_rate']                         \n",
    "                         )\n",
    "model.fit(X_train, y_train, verbose=0, plot=True)\n",
    "y_pred = model.predict(X_test)\n",
    "\n",
    "rmse = mean_squared_error(y_test, y_pred)**0.5\n",
    "\n",
    "print(\"RMSE на тесте {}\".format(rmse))"
   ]
  },
  {
   "cell_type": "markdown",
   "metadata": {},
   "source": [
    "RMSE на тесте 42.81787724981379. Показатель более чем устраивает нас."
   ]
  },
  {
   "cell_type": "code",
   "execution_count": 20,
   "metadata": {
    "scrolled": true
   },
   "outputs": [
    {
     "data": {
      "image/png": "[encoded data removed]",
      "text/plain": [
       "<Figure size 432x288 with 1 Axes>"
      ]
     },
     "metadata": {
      "needs_background": "light"
     },
     "output_type": "display_data"
    }
   ],
   "source": [
    "plt.bar(X_train.columns, model.feature_importances_)\n",
    "plt.xticks(rotation = 90) \n",
    "plt.title('Feature importances')\n",
    "plt.show()"
   ]
  },
  {
   "cell_type": "markdown",
   "metadata": {},
   "source": [
    "По важности факторов можно заметить, что самым важным фактором является hour. При множестве проверок выходит, что для качествонного предсказания достаточно столбцов month, dayofweek, hour, lag_1, rolling_mean."
   ]
  },
  {
   "cell_type": "markdown",
   "metadata": {},
   "source": [
    "### Вывод"
   ]
  },
  {
   "cell_type": "markdown",
   "metadata": {},
   "source": [
    "Целевое значение метрики RMSE на тесте менее 48. Модель хороши справляется с предсказанием нагрузки на следующий час. Самыми важными факторами в предсказании оказались время суток и месяц.\n",
    "\n",
    "Согласно тесту Dickey-Fuller ряд можно отнести к стационарным.Однако на графике тренда можно заметить рост в августе, следовательно при необходимости дальнейших предсказаний необходимо будет внимательно следить за стационарностью ряда, поскольку тренд слишком очевиден."
   ]
  }
 ],
 "metadata": {
  "ExecuteTimeLog": [
   {
    "duration": 394,
    "start_time": "2022-10-09T07:25:06.100Z"
   },
   {
    "duration": 88,
    "start_time": "2022-10-09T07:25:41.416Z"
   },
   {
    "duration": 103,
    "start_time": "2022-10-09T07:26:11.305Z"
   },
   {
    "duration": 52,
    "start_time": "2022-10-09T07:26:19.882Z"
   },
   {
    "duration": 49,
    "start_time": "2022-10-09T07:26:31.906Z"
   },
   {
    "duration": 16,
    "start_time": "2022-10-09T07:27:23.513Z"
   },
   {
    "duration": 52,
    "start_time": "2022-10-09T07:27:44.138Z"
   },
   {
    "duration": 3,
    "start_time": "2022-10-09T07:30:16.040Z"
   },
   {
    "duration": 13,
    "start_time": "2022-10-09T07:30:24.699Z"
   },
   {
    "duration": 13,
    "start_time": "2022-10-09T07:31:34.363Z"
   },
   {
    "duration": 7,
    "start_time": "2022-10-09T07:31:48.356Z"
   },
   {
    "duration": 2,
    "start_time": "2022-10-09T07:32:17.469Z"
   },
   {
    "duration": 52,
    "start_time": "2022-10-09T07:32:18.157Z"
   },
   {
    "duration": 7,
    "start_time": "2022-10-09T07:32:20.198Z"
   },
   {
    "duration": 5,
    "start_time": "2022-10-09T07:32:22.967Z"
   },
   {
    "duration": 3,
    "start_time": "2022-10-09T07:32:36.112Z"
   },
   {
    "duration": 59,
    "start_time": "2022-10-09T07:32:36.976Z"
   },
   {
    "duration": 10,
    "start_time": "2022-10-09T07:32:41.848Z"
   },
   {
    "duration": 13,
    "start_time": "2022-10-09T07:33:56.769Z"
   },
   {
    "duration": 11,
    "start_time": "2022-10-09T07:34:07.648Z"
   },
   {
    "duration": 11,
    "start_time": "2022-10-09T07:34:13.470Z"
   },
   {
    "duration": 8,
    "start_time": "2022-10-09T07:35:58.036Z"
   },
   {
    "duration": 10,
    "start_time": "2022-10-09T07:36:10.963Z"
   },
   {
    "duration": 9,
    "start_time": "2022-10-09T07:37:23.119Z"
   },
   {
    "duration": 399,
    "start_time": "2022-10-09T07:39:08.469Z"
   },
   {
    "duration": 23,
    "start_time": "2022-10-09T07:40:10.482Z"
   },
   {
    "duration": 519,
    "start_time": "2022-10-09T07:40:42.978Z"
   },
   {
    "duration": 3,
    "start_time": "2022-10-09T07:40:58.770Z"
   },
   {
    "duration": 39,
    "start_time": "2022-10-09T07:41:25.917Z"
   },
   {
    "duration": 9,
    "start_time": "2022-10-09T07:41:42.002Z"
   },
   {
    "duration": 115,
    "start_time": "2022-10-09T07:43:53.465Z"
   },
   {
    "duration": 7,
    "start_time": "2022-10-09T07:43:59.413Z"
   },
   {
    "duration": 739,
    "start_time": "2022-10-09T07:44:00.868Z"
   },
   {
    "duration": 54,
    "start_time": "2022-10-09T07:44:41.643Z"
   },
   {
    "duration": 850,
    "start_time": "2022-10-09T07:44:45.270Z"
   },
   {
    "duration": 730,
    "start_time": "2022-10-09T07:45:03.105Z"
   },
   {
    "duration": 794,
    "start_time": "2022-10-09T07:45:30.083Z"
   },
   {
    "duration": 821,
    "start_time": "2022-10-09T07:45:40.232Z"
   },
   {
    "duration": 297,
    "start_time": "2022-10-09T07:47:18.319Z"
   },
   {
    "duration": 864,
    "start_time": "2022-10-09T07:47:33.469Z"
   },
   {
    "duration": 861,
    "start_time": "2022-10-09T07:51:19.673Z"
   },
   {
    "duration": 965,
    "start_time": "2022-10-09T07:52:01.521Z"
   },
   {
    "duration": 459,
    "start_time": "2022-10-09T07:57:00.295Z"
   },
   {
    "duration": 224,
    "start_time": "2022-10-09T08:00:11.408Z"
   },
   {
    "duration": 208,
    "start_time": "2022-10-09T08:00:27.827Z"
   },
   {
    "duration": 291,
    "start_time": "2022-10-09T08:00:39.607Z"
   },
   {
    "duration": 218,
    "start_time": "2022-10-09T08:00:50.317Z"
   },
   {
    "duration": 228,
    "start_time": "2022-10-09T08:00:54.466Z"
   },
   {
    "duration": 233,
    "start_time": "2022-10-09T08:01:53.310Z"
   },
   {
    "duration": 79,
    "start_time": "2022-10-09T08:02:24.030Z"
   },
   {
    "duration": 11,
    "start_time": "2022-10-09T08:02:28.073Z"
   },
   {
    "duration": 235,
    "start_time": "2022-10-09T08:02:33.795Z"
   },
   {
    "duration": 191,
    "start_time": "2022-10-09T08:02:43.559Z"
   },
   {
    "duration": 216,
    "start_time": "2022-10-09T08:02:49.399Z"
   },
   {
    "duration": 16,
    "start_time": "2022-10-09T08:03:45.496Z"
   },
   {
    "duration": 219,
    "start_time": "2022-10-09T08:03:51.416Z"
   },
   {
    "duration": 219,
    "start_time": "2022-10-09T08:04:31.849Z"
   },
   {
    "duration": 248,
    "start_time": "2022-10-09T08:04:44.919Z"
   },
   {
    "duration": 343,
    "start_time": "2022-10-09T08:04:55.799Z"
   },
   {
    "duration": 254,
    "start_time": "2022-10-09T08:05:07.899Z"
   },
   {
    "duration": 6,
    "start_time": "2022-10-09T08:05:25.352Z"
   },
   {
    "duration": 57,
    "start_time": "2022-10-09T08:05:25.577Z"
   },
   {
    "duration": 7,
    "start_time": "2022-10-09T08:05:25.998Z"
   },
   {
    "duration": 10,
    "start_time": "2022-10-09T08:05:26.452Z"
   },
   {
    "duration": 247,
    "start_time": "2022-10-09T08:05:27.410Z"
   },
   {
    "duration": 758,
    "start_time": "2022-10-09T08:05:28.076Z"
   },
   {
    "duration": 400,
    "start_time": "2022-10-09T08:05:29.516Z"
   },
   {
    "duration": 320,
    "start_time": "2022-10-09T08:05:43.053Z"
   },
   {
    "duration": 283,
    "start_time": "2022-10-09T08:25:48.456Z"
   },
   {
    "duration": 16,
    "start_time": "2022-10-09T08:26:29.653Z"
   },
   {
    "duration": 10,
    "start_time": "2022-10-09T08:26:36.566Z"
   },
   {
    "duration": 22,
    "start_time": "2022-10-09T08:27:28.147Z"
   },
   {
    "duration": 6,
    "start_time": "2022-10-09T08:28:18.643Z"
   },
   {
    "duration": 7,
    "start_time": "2022-10-09T08:29:28.719Z"
   },
   {
    "duration": 9,
    "start_time": "2022-10-09T08:29:32.273Z"
   },
   {
    "duration": 58,
    "start_time": "2022-10-09T08:33:29.594Z"
   },
   {
    "duration": 16,
    "start_time": "2022-10-09T08:33:36.498Z"
   },
   {
    "duration": 7,
    "start_time": "2022-10-09T08:33:39.672Z"
   },
   {
    "duration": 6,
    "start_time": "2022-10-09T09:48:45.508Z"
   },
   {
    "duration": 4,
    "start_time": "2022-10-09T09:49:03.925Z"
   },
   {
    "duration": 10,
    "start_time": "2022-10-09T09:49:16.574Z"
   },
   {
    "duration": 75,
    "start_time": "2022-10-09T09:49:26.548Z"
   },
   {
    "duration": 15,
    "start_time": "2022-10-09T09:49:30.539Z"
   },
   {
    "duration": 19,
    "start_time": "2022-10-09T09:49:36.876Z"
   },
   {
    "duration": 5,
    "start_time": "2022-10-09T09:50:08.260Z"
   },
   {
    "duration": 20,
    "start_time": "2022-10-09T09:50:09.096Z"
   },
   {
    "duration": 5,
    "start_time": "2022-10-09T09:55:20.854Z"
   },
   {
    "duration": 129,
    "start_time": "2022-10-09T09:55:52.110Z"
   },
   {
    "duration": 25,
    "start_time": "2022-10-09T09:55:59.427Z"
   },
   {
    "duration": 21,
    "start_time": "2022-10-09T09:56:10.314Z"
   },
   {
    "duration": 25,
    "start_time": "2022-10-09T09:56:30.658Z"
   },
   {
    "duration": 13,
    "start_time": "2022-10-09T09:57:14.217Z"
   },
   {
    "duration": 9,
    "start_time": "2022-10-09T09:58:02.187Z"
   },
   {
    "duration": 12025,
    "start_time": "2022-10-09T09:58:20.733Z"
   },
   {
    "duration": 309,
    "start_time": "2022-10-09T09:58:32.871Z"
   },
   {
    "duration": 4,
    "start_time": "2022-10-09T10:00:17.977Z"
   },
   {
    "duration": 4,
    "start_time": "2022-10-09T10:09:43.441Z"
   },
   {
    "duration": 237,
    "start_time": "2022-10-09T10:09:44.473Z"
   },
   {
    "duration": 4,
    "start_time": "2022-10-09T10:10:10.908Z"
   },
   {
    "duration": 203,
    "start_time": "2022-10-09T10:10:11.777Z"
   },
   {
    "duration": 4,
    "start_time": "2022-10-09T10:10:19.478Z"
   },
   {
    "duration": 770,
    "start_time": "2022-10-09T10:10:20.813Z"
   },
   {
    "duration": 4,
    "start_time": "2022-10-09T10:10:29.460Z"
   },
   {
    "duration": 10960,
    "start_time": "2022-10-09T10:10:31.518Z"
   },
   {
    "duration": 5,
    "start_time": "2022-10-09T10:11:38.286Z"
   },
   {
    "duration": 5,
    "start_time": "2022-10-09T10:11:42.652Z"
   },
   {
    "duration": 4,
    "start_time": "2022-10-09T10:11:48.279Z"
   },
   {
    "duration": 9065,
    "start_time": "2022-10-09T10:11:51.925Z"
   },
   {
    "duration": 10,
    "start_time": "2022-10-09T10:12:59.101Z"
   },
   {
    "duration": 2120,
    "start_time": "2022-10-09T10:13:15.464Z"
   },
   {
    "duration": 15,
    "start_time": "2022-10-09T10:13:21.269Z"
   },
   {
    "duration": 21,
    "start_time": "2022-10-09T10:13:27.909Z"
   },
   {
    "duration": 4,
    "start_time": "2022-10-09T10:16:37.861Z"
   },
   {
    "duration": 214,
    "start_time": "2022-10-09T10:16:38.882Z"
   },
   {
    "duration": 5,
    "start_time": "2022-10-09T10:16:49.700Z"
   },
   {
    "duration": 179,
    "start_time": "2022-10-09T10:16:51.072Z"
   },
   {
    "duration": 5,
    "start_time": "2022-10-09T10:17:06.417Z"
   },
   {
    "duration": 161,
    "start_time": "2022-10-09T10:17:07.509Z"
   },
   {
    "duration": 5,
    "start_time": "2022-10-09T10:17:17.208Z"
   },
   {
    "duration": 644531,
    "start_time": "2022-10-09T10:17:17.679Z"
   },
   {
    "duration": 6,
    "start_time": "2022-10-09T10:31:19.821Z"
   },
   {
    "duration": 36061,
    "start_time": "2022-10-09T10:31:22.428Z"
   },
   {
    "duration": 6,
    "start_time": "2022-10-09T10:32:18.834Z"
   },
   {
    "duration": 5,
    "start_time": "2022-10-09T10:32:20.503Z"
   },
   {
    "duration": 5,
    "start_time": "2022-10-09T10:32:22.118Z"
   },
   {
    "duration": 774043,
    "start_time": "2022-10-09T10:32:22.892Z"
   },
   {
    "duration": 2055,
    "start_time": "2022-10-09T10:50:38.222Z"
   },
   {
    "duration": 2046,
    "start_time": "2022-10-09T10:50:40.279Z"
   },
   {
    "duration": 1633,
    "start_time": "2022-10-09T10:50:42.327Z"
   },
   {
    "duration": 57,
    "start_time": "2022-10-09T10:50:43.962Z"
   },
   {
    "duration": 10,
    "start_time": "2022-10-09T10:50:44.021Z"
   },
   {
    "duration": 11,
    "start_time": "2022-10-09T10:50:44.033Z"
   },
   {
    "duration": 272,
    "start_time": "2022-10-09T10:50:44.045Z"
   },
   {
    "duration": 845,
    "start_time": "2022-10-09T10:50:44.319Z"
   },
   {
    "duration": 477,
    "start_time": "2022-10-09T10:50:45.166Z"
   },
   {
    "duration": 7,
    "start_time": "2022-10-09T10:50:45.645Z"
   },
   {
    "duration": 5,
    "start_time": "2022-10-09T10:50:45.654Z"
   },
   {
    "duration": 18,
    "start_time": "2022-10-09T10:50:45.661Z"
   },
   {
    "duration": 331,
    "start_time": "2022-10-09T10:50:45.680Z"
   },
   {
    "duration": 12,
    "start_time": "2022-10-09T10:50:46.012Z"
   },
   {
    "duration": 4,
    "start_time": "2022-10-09T10:51:32.702Z"
   },
   {
    "duration": 172,
    "start_time": "2022-10-09T10:51:33.097Z"
   },
   {
    "duration": 6,
    "start_time": "2022-10-09T10:52:54.165Z"
   },
   {
    "duration": 57,
    "start_time": "2022-10-09T10:52:54.798Z"
   },
   {
    "duration": 205,
    "start_time": "2022-10-09T10:52:55.500Z"
   },
   {
    "duration": 26,
    "start_time": "2022-10-09T10:55:03.650Z"
   },
   {
    "duration": 5,
    "start_time": "2022-10-09T10:56:05.502Z"
   },
   {
    "duration": 2208,
    "start_time": "2022-10-09T10:56:12.792Z"
   },
   {
    "duration": 2147,
    "start_time": "2022-10-09T10:56:15.003Z"
   },
   {
    "duration": 3,
    "start_time": "2022-10-09T10:56:17.152Z"
   },
   {
    "duration": 62,
    "start_time": "2022-10-09T10:56:17.157Z"
   },
   {
    "duration": 8,
    "start_time": "2022-10-09T10:56:17.220Z"
   },
   {
    "duration": 10,
    "start_time": "2022-10-09T10:56:20.189Z"
   },
   {
    "duration": 250,
    "start_time": "2022-10-09T10:56:21.768Z"
   },
   {
    "duration": 969,
    "start_time": "2022-10-09T10:56:22.521Z"
   },
   {
    "duration": 460,
    "start_time": "2022-10-09T10:56:23.492Z"
   },
   {
    "duration": 13,
    "start_time": "2022-10-09T10:56:25.690Z"
   },
   {
    "duration": 5,
    "start_time": "2022-10-09T10:56:26.121Z"
   },
   {
    "duration": 69,
    "start_time": "2022-10-09T10:56:26.521Z"
   },
   {
    "duration": 645281,
    "start_time": "2022-10-09T10:56:27.243Z"
   },
   {
    "duration": 5,
    "start_time": "2022-10-09T11:07:12.526Z"
   },
   {
    "duration": 10,
    "start_time": "2022-10-09T11:09:37.248Z"
   },
   {
    "duration": 11,
    "start_time": "2022-10-09T11:09:44.294Z"
   },
   {
    "duration": 4,
    "start_time": "2022-10-09T11:10:34.686Z"
   },
   {
    "duration": 51,
    "start_time": "2022-10-09T11:11:23.321Z"
   },
   {
    "duration": 4,
    "start_time": "2022-10-09T11:11:29.116Z"
   },
   {
    "duration": 3,
    "start_time": "2022-10-09T11:11:41.001Z"
   },
   {
    "duration": 28,
    "start_time": "2022-10-09T11:15:26.715Z"
   },
   {
    "duration": 8554,
    "start_time": "2022-10-09T11:17:57.473Z"
   },
   {
    "duration": 7,
    "start_time": "2022-10-09T11:18:55.110Z"
   },
   {
    "duration": 8858,
    "start_time": "2022-10-09T11:19:31.458Z"
   },
   {
    "duration": 7,
    "start_time": "2022-10-09T11:20:04.789Z"
   },
   {
    "duration": 10557,
    "start_time": "2022-10-09T11:20:40.506Z"
   },
   {
    "duration": 5,
    "start_time": "2022-10-09T11:21:23.149Z"
   },
   {
    "duration": 8580,
    "start_time": "2022-10-09T11:21:44.329Z"
   },
   {
    "duration": 7,
    "start_time": "2022-10-09T11:21:58.253Z"
   },
   {
    "duration": 2189,
    "start_time": "2022-10-09T11:22:41.881Z"
   },
   {
    "duration": 2205,
    "start_time": "2022-10-09T11:22:44.073Z"
   },
   {
    "duration": 1643,
    "start_time": "2022-10-09T11:22:46.280Z"
   },
   {
    "duration": 56,
    "start_time": "2022-10-09T11:22:47.924Z"
   },
   {
    "duration": 10,
    "start_time": "2022-10-09T11:22:47.982Z"
   },
   {
    "duration": 11,
    "start_time": "2022-10-09T11:22:47.995Z"
   },
   {
    "duration": 283,
    "start_time": "2022-10-09T11:22:48.007Z"
   },
   {
    "duration": 808,
    "start_time": "2022-10-09T11:22:48.292Z"
   },
   {
    "duration": 447,
    "start_time": "2022-10-09T11:22:49.102Z"
   },
   {
    "duration": 12,
    "start_time": "2022-10-09T11:22:49.551Z"
   },
   {
    "duration": 14,
    "start_time": "2022-10-09T11:22:49.565Z"
   },
   {
    "duration": 15,
    "start_time": "2022-10-09T11:22:49.581Z"
   },
   {
    "duration": 668759,
    "start_time": "2022-10-09T11:22:49.599Z"
   },
   {
    "duration": 4,
    "start_time": "2022-10-09T11:33:58.360Z"
   },
   {
    "duration": 19,
    "start_time": "2022-10-09T11:33:58.365Z"
   },
   {
    "duration": 3361,
    "start_time": "2022-10-09T11:33:58.386Z"
   },
   {
    "duration": 5,
    "start_time": "2022-10-09T11:34:01.749Z"
   },
   {
    "duration": 4,
    "start_time": "2022-10-09T11:36:58.308Z"
   },
   {
    "duration": 33,
    "start_time": "2022-10-09T11:37:07.968Z"
   },
   {
    "duration": 3164,
    "start_time": "2022-10-09T11:37:51.137Z"
   },
   {
    "duration": 17491,
    "start_time": "2022-10-09T11:38:29.264Z"
   },
   {
    "duration": 2152,
    "start_time": "2022-10-09T11:39:16.072Z"
   },
   {
    "duration": 2529,
    "start_time": "2022-10-09T11:39:49.727Z"
   },
   {
    "duration": 19587,
    "start_time": "2022-10-09T11:40:00.306Z"
   },
   {
    "duration": 5,
    "start_time": "2022-10-09T11:41:19.086Z"
   },
   {
    "duration": 5,
    "start_time": "2022-10-09T11:41:47.238Z"
   },
   {
    "duration": 5013,
    "start_time": "2022-10-09T11:41:48.014Z"
   },
   {
    "duration": 2214,
    "start_time": "2022-10-09T11:42:25.250Z"
   },
   {
    "duration": 2054,
    "start_time": "2022-10-09T11:42:27.466Z"
   },
   {
    "duration": 1580,
    "start_time": "2022-10-09T11:42:29.522Z"
   },
   {
    "duration": 58,
    "start_time": "2022-10-09T11:42:31.103Z"
   },
   {
    "duration": 11,
    "start_time": "2022-10-09T11:42:31.165Z"
   },
   {
    "duration": 25,
    "start_time": "2022-10-09T11:42:31.178Z"
   },
   {
    "duration": 271,
    "start_time": "2022-10-09T11:42:31.205Z"
   },
   {
    "duration": 798,
    "start_time": "2022-10-09T11:42:31.478Z"
   },
   {
    "duration": 428,
    "start_time": "2022-10-09T11:42:32.278Z"
   },
   {
    "duration": 11,
    "start_time": "2022-10-09T11:42:32.709Z"
   },
   {
    "duration": 5,
    "start_time": "2022-10-09T11:42:32.722Z"
   },
   {
    "duration": 8,
    "start_time": "2022-10-09T11:42:32.728Z"
   },
   {
    "duration": 476,
    "start_time": "2022-10-09T11:42:32.737Z"
   },
   {
    "duration": 16,
    "start_time": "2022-10-09T11:42:33.215Z"
   },
   {
    "duration": 13,
    "start_time": "2022-10-09T11:42:34.575Z"
   },
   {
    "duration": 5,
    "start_time": "2022-10-09T11:42:59.099Z"
   },
   {
    "duration": 5,
    "start_time": "2022-10-09T11:42:59.763Z"
   },
   {
    "duration": 737407,
    "start_time": "2022-10-09T11:43:01.223Z"
   },
   {
    "duration": 4,
    "start_time": "2022-10-09T11:55:18.633Z"
   },
   {
    "duration": 20,
    "start_time": "2022-10-09T11:55:18.639Z"
   },
   {
    "duration": 6341,
    "start_time": "2022-10-09T11:55:28.911Z"
   },
   {
    "duration": 5839,
    "start_time": "2022-10-09T13:06:51.053Z"
   },
   {
    "duration": 6126,
    "start_time": "2022-10-09T13:07:08.965Z"
   },
   {
    "duration": 43,
    "start_time": "2022-10-09T13:26:03.302Z"
   },
   {
    "duration": 1717,
    "start_time": "2022-10-09T13:26:29.469Z"
   },
   {
    "duration": 2114,
    "start_time": "2022-10-09T13:43:20.166Z"
   },
   {
    "duration": 2133,
    "start_time": "2022-10-09T13:43:22.282Z"
   },
   {
    "duration": 1652,
    "start_time": "2022-10-09T13:43:24.417Z"
   },
   {
    "duration": 60,
    "start_time": "2022-10-09T13:43:26.076Z"
   },
   {
    "duration": 12,
    "start_time": "2022-10-09T13:43:26.137Z"
   },
   {
    "duration": 13,
    "start_time": "2022-10-09T13:43:26.150Z"
   },
   {
    "duration": 283,
    "start_time": "2022-10-09T13:43:26.165Z"
   },
   {
    "duration": 850,
    "start_time": "2022-10-09T13:43:26.450Z"
   },
   {
    "duration": 411,
    "start_time": "2022-10-09T13:43:27.302Z"
   },
   {
    "duration": 1671,
    "start_time": "2022-10-09T13:43:27.715Z"
   },
   {
    "duration": 100,
    "start_time": "2022-10-09T13:43:29.478Z"
   },
   {
    "duration": 5,
    "start_time": "2022-10-09T13:43:29.580Z"
   },
   {
    "duration": 9,
    "start_time": "2022-10-09T13:43:29.587Z"
   },
   {
    "duration": 795830,
    "start_time": "2022-10-09T13:43:29.597Z"
   },
   {
    "duration": 5,
    "start_time": "2022-10-09T13:56:45.429Z"
   },
   {
    "duration": 7,
    "start_time": "2022-10-09T13:56:45.436Z"
   },
   {
    "duration": 39285,
    "start_time": "2022-10-09T13:56:45.445Z"
   },
   {
    "duration": 4,
    "start_time": "2022-10-09T14:01:20.693Z"
   },
   {
    "duration": 3,
    "start_time": "2022-10-09T14:01:23.569Z"
   },
   {
    "duration": 39745,
    "start_time": "2022-10-09T14:01:27.081Z"
   },
   {
    "duration": 12,
    "start_time": "2022-10-09T14:05:25.106Z"
   },
   {
    "duration": 16,
    "start_time": "2022-10-09T14:06:05.692Z"
   },
   {
    "duration": 6,
    "start_time": "2022-10-09T14:06:07.099Z"
   },
   {
    "duration": 4,
    "start_time": "2022-10-09T14:06:08.221Z"
   },
   {
    "duration": 651706,
    "start_time": "2022-10-09T14:06:09.328Z"
   },
   {
    "duration": 4,
    "start_time": "2022-10-09T14:17:26.630Z"
   },
   {
    "duration": 4,
    "start_time": "2022-10-09T14:17:28.814Z"
   },
   {
    "duration": 6299,
    "start_time": "2022-10-09T14:17:32.539Z"
   },
   {
    "duration": 5,
    "start_time": "2022-10-09T14:18:49.402Z"
   },
   {
    "duration": 5,
    "start_time": "2022-10-09T14:18:53.183Z"
   },
   {
    "duration": 6,
    "start_time": "2022-10-09T14:18:53.876Z"
   },
   {
    "duration": 571493,
    "start_time": "2022-10-09T14:18:54.512Z"
   },
   {
    "duration": 4,
    "start_time": "2022-10-09T14:28:35.547Z"
   },
   {
    "duration": 4,
    "start_time": "2022-10-09T14:28:36.568Z"
   },
   {
    "duration": 156,
    "start_time": "2022-10-09T14:28:41.689Z"
   },
   {
    "duration": 1381,
    "start_time": "2022-10-09T14:29:40.335Z"
   },
   {
    "duration": 6,
    "start_time": "2022-10-09T14:30:07.363Z"
   },
   {
    "duration": 1719,
    "start_time": "2022-10-09T14:32:21.501Z"
   },
   {
    "duration": 6,
    "start_time": "2022-10-09T14:32:27.222Z"
   },
   {
    "duration": 4192,
    "start_time": "2022-10-09T14:38:02.184Z"
   },
   {
    "duration": 9,
    "start_time": "2022-10-09T14:38:53.229Z"
   },
   {
    "duration": 9,
    "start_time": "2022-10-09T14:39:07.254Z"
   },
   {
    "duration": 9,
    "start_time": "2022-10-09T14:39:12.072Z"
   },
   {
    "duration": 9,
    "start_time": "2022-10-09T14:39:33.389Z"
   },
   {
    "duration": 5,
    "start_time": "2022-10-09T14:41:37.517Z"
   },
   {
    "duration": 11,
    "start_time": "2022-10-09T14:42:03.876Z"
   },
   {
    "duration": 188,
    "start_time": "2022-10-09T14:42:10.909Z"
   },
   {
    "duration": 181,
    "start_time": "2022-10-09T14:42:32.401Z"
   },
   {
    "duration": 2172,
    "start_time": "2022-10-09T14:46:04.073Z"
   },
   {
    "duration": 2109,
    "start_time": "2022-10-09T14:46:06.248Z"
   },
   {
    "duration": 4,
    "start_time": "2022-10-09T14:46:08.358Z"
   },
   {
    "duration": 59,
    "start_time": "2022-10-09T14:46:08.364Z"
   },
   {
    "duration": 8,
    "start_time": "2022-10-09T14:46:08.498Z"
   },
   {
    "duration": 13,
    "start_time": "2022-10-09T14:46:09.967Z"
   },
   {
    "duration": 219,
    "start_time": "2022-10-09T14:46:13.186Z"
   },
   {
    "duration": 935,
    "start_time": "2022-10-09T14:46:15.648Z"
   },
   {
    "duration": 461,
    "start_time": "2022-10-09T14:46:19.170Z"
   },
   {
    "duration": 1427,
    "start_time": "2022-10-09T14:46:20.858Z"
   },
   {
    "duration": 11,
    "start_time": "2022-10-09T14:46:23.738Z"
   },
   {
    "duration": 5,
    "start_time": "2022-10-09T14:46:24.568Z"
   },
   {
    "duration": 5,
    "start_time": "2022-10-09T14:46:31.723Z"
   },
   {
    "duration": 560495,
    "start_time": "2022-10-09T14:46:33.820Z"
   },
   {
    "duration": 5,
    "start_time": "2022-10-09T14:55:54.317Z"
   },
   {
    "duration": 17,
    "start_time": "2022-10-09T14:55:54.324Z"
   },
   {
    "duration": 2684,
    "start_time": "2022-10-09T14:55:54.344Z"
   },
   {
    "duration": 5,
    "start_time": "2022-10-09T14:55:57.030Z"
   },
   {
    "duration": 3313,
    "start_time": "2022-10-09T14:55:57.037Z"
   },
   {
    "duration": 124,
    "start_time": "2022-10-09T14:56:00.378Z"
   },
   {
    "duration": 2429,
    "start_time": "2022-10-09T14:57:29.478Z"
   },
   {
    "duration": 2087,
    "start_time": "2022-10-09T14:58:28.021Z"
   },
   {
    "duration": 1978,
    "start_time": "2022-10-09T14:58:30.110Z"
   },
   {
    "duration": 1544,
    "start_time": "2022-10-09T14:58:32.090Z"
   },
   {
    "duration": 55,
    "start_time": "2022-10-09T14:58:33.637Z"
   },
   {
    "duration": 10,
    "start_time": "2022-10-09T14:58:33.694Z"
   },
   {
    "duration": 14,
    "start_time": "2022-10-09T14:58:33.705Z"
   },
   {
    "duration": 250,
    "start_time": "2022-10-09T14:58:33.721Z"
   },
   {
    "duration": 800,
    "start_time": "2022-10-09T14:58:33.972Z"
   },
   {
    "duration": 447,
    "start_time": "2022-10-09T14:58:34.774Z"
   },
   {
    "duration": 1561,
    "start_time": "2022-10-09T14:58:35.223Z"
   },
   {
    "duration": 192,
    "start_time": "2022-10-09T14:58:36.786Z"
   },
   {
    "duration": 7,
    "start_time": "2022-10-09T14:58:36.981Z"
   },
   {
    "duration": 14,
    "start_time": "2022-10-09T14:58:36.991Z"
   },
   {
    "duration": 448474,
    "start_time": "2022-10-09T14:58:37.006Z"
   },
   {
    "duration": 4,
    "start_time": "2022-10-09T15:06:05.481Z"
   },
   {
    "duration": 7,
    "start_time": "2022-10-09T15:06:05.486Z"
   },
   {
    "duration": 1223,
    "start_time": "2022-10-09T15:06:05.494Z"
   },
   {
    "duration": 5,
    "start_time": "2022-10-09T15:06:06.718Z"
   },
   {
    "duration": 3706,
    "start_time": "2022-10-09T15:06:06.724Z"
   },
   {
    "duration": 186,
    "start_time": "2022-10-09T15:06:10.432Z"
   },
   {
    "duration": 3386,
    "start_time": "2022-10-09T15:13:16.752Z"
   },
   {
    "duration": 2224,
    "start_time": "2022-10-09T15:25:42.770Z"
   },
   {
    "duration": 2212,
    "start_time": "2022-10-09T15:25:44.996Z"
   },
   {
    "duration": 1636,
    "start_time": "2022-10-09T15:25:47.210Z"
   },
   {
    "duration": 59,
    "start_time": "2022-10-09T15:25:48.848Z"
   },
   {
    "duration": 12,
    "start_time": "2022-10-09T15:25:48.909Z"
   },
   {
    "duration": 10,
    "start_time": "2022-10-09T15:25:48.923Z"
   },
   {
    "duration": 293,
    "start_time": "2022-10-09T15:25:48.934Z"
   },
   {
    "duration": 859,
    "start_time": "2022-10-09T15:25:49.230Z"
   },
   {
    "duration": 442,
    "start_time": "2022-10-09T15:25:50.091Z"
   },
   {
    "duration": 1549,
    "start_time": "2022-10-09T15:25:50.536Z"
   },
   {
    "duration": 102,
    "start_time": "2022-10-09T15:25:52.176Z"
   },
   {
    "duration": 5,
    "start_time": "2022-10-09T15:25:52.280Z"
   },
   {
    "duration": 6,
    "start_time": "2022-10-09T15:25:52.286Z"
   },
   {
    "duration": 699552,
    "start_time": "2022-10-09T15:25:52.294Z"
   },
   {
    "duration": 4,
    "start_time": "2022-10-09T15:37:31.848Z"
   },
   {
    "duration": 28,
    "start_time": "2022-10-09T15:37:31.853Z"
   },
   {
    "duration": 4445,
    "start_time": "2022-10-09T15:37:31.882Z"
   },
   {
    "duration": 5,
    "start_time": "2022-10-09T15:37:36.329Z"
   },
   {
    "duration": 9903,
    "start_time": "2022-10-09T15:37:36.335Z"
   },
   {
    "duration": 180,
    "start_time": "2022-10-09T15:37:46.241Z"
   }
  ],
  "kernelspec": {
   "display_name": "Python 3 (ipykernel)",
   "language": "python",
   "name": "python3"
  },
  "language_info": {
   "codemirror_mode": {
    "name": "ipython",
    "version": 3
   },
   "file_extension": ".py",
   "mimetype": "text/x-python",
   "name": "python",
   "nbconvert_exporter": "python",
   "pygments_lexer": "ipython3",
   "version": "3.9.7"
  },
  "toc": {
   "base_numbering": 1,
   "nav_menu": {},
   "number_sections": true,
   "sideBar": true,
   "skip_h1_title": true,
   "title_cell": "Содержание",
   "title_sidebar": "Contents",
   "toc_cell": true,
   "toc_position": {},
   "toc_section_display": true,
   "toc_window_display": false
  }
 },
 "nbformat": 4,
 "nbformat_minor": 2
}
